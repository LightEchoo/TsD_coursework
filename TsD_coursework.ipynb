{
 "cells": [
  {
   "cell_type": "code",
   "execution_count": 1,
   "id": "initial_id",
   "metadata": {
    "collapsed": true,
    "ExecuteTime": {
     "end_time": "2024-03-12T11:36:25.951542Z",
     "start_time": "2024-03-12T11:36:22.419382Z"
    }
   },
   "outputs": [],
   "source": [
    "import json\n",
    "from collections import Counter\n",
    "\n",
    "import matplotlib.pyplot as plt\n",
    "import numpy as np\n",
    "import pandas as pd\n",
    "import spacy\n",
    "import torch\n",
    "from gensim.models import Word2Vec\n",
    "from sklearn.feature_extraction.text import CountVectorizer\n",
    "from sklearn.metrics import accuracy_score, precision_score, recall_score, f1_score\n",
    "from sklearn.metrics.pairwise import cosine_similarity\n",
    "from torch.optim import AdamW\n",
    "from torch.utils.data import Dataset, DataLoader\n",
    "from tqdm import tqdm  # This provides a nice progress bar\n",
    "from transformers import AutoModelForSequenceClassification\n",
    "from transformers import AutoTokenizer, AutoModel"
   ]
  },
  {
   "cell_type": "code",
   "outputs": [],
   "source": [
    "# !python -m spacy download en_core_web_sm"
   ],
   "metadata": {
    "collapsed": false,
    "ExecuteTime": {
     "end_time": "2024-03-12T11:36:25.966585Z",
     "start_time": "2024-03-12T11:36:25.952455Z"
    }
   },
   "id": "cbf4b4c20cac2ef7",
   "execution_count": 2
  },
  {
   "cell_type": "code",
   "outputs": [],
   "source": [
    "# Loading SpaCy English Models\n",
    "nlp = spacy.load(\"en_core_web_sm\")\n",
    "# Enabling tqdm support on pandas\n",
    "tqdm.pandas()"
   ],
   "metadata": {
    "collapsed": false,
    "ExecuteTime": {
     "end_time": "2024-03-12T11:36:26.295557Z",
     "start_time": "2024-03-12T11:36:25.967576Z"
    }
   },
   "id": "d70941cfcb256c62",
   "execution_count": 3
  },
  {
   "cell_type": "code",
   "outputs": [],
   "source": [
    "# Functions for loading datasets\n",
    "def load_dataset(file_path):\n",
    "    \"\"\"\n",
    "    This function loads a dataset from a JSON file.\n",
    "\n",
    "    Args:\n",
    "    file_path (str): The path to the JSON file.\n",
    "\n",
    "    Returns:\n",
    "    DataFrame: A pandas DataFrame containing the dataset.\n",
    "    \"\"\"\n",
    "    with open(file_path, 'r', encoding='utf-8') as file:\n",
    "        data = json.load(file)\n",
    "\n",
    "    df = pd.DataFrame([{\n",
    "        'question': item['question'],\n",
    "        'option1': item['options'][0],\n",
    "        'option2': item['options'][1],\n",
    "        'option3': item['options'][2],\n",
    "        'option4': item['options'][3],\n",
    "        'correct_index': item['correct_index'] + 1\n",
    "    } for item in data])\n",
    "\n",
    "    return df"
   ],
   "metadata": {
    "collapsed": false,
    "ExecuteTime": {
     "end_time": "2024-03-12T11:36:26.311078Z",
     "start_time": "2024-03-12T11:36:26.296561Z"
    }
   },
   "id": "16655dd54c7ee2f0",
   "execution_count": 4
  },
  {
   "cell_type": "code",
   "outputs": [],
   "source": [
    "df_train = load_dataset('wikiqa_coursework_dataset/coursework_dataset/train.json')\n",
    "df_val = load_dataset('wikiqa_coursework_dataset/coursework_dataset/val.json')\n",
    "df_test = load_dataset('wikiqa_coursework_dataset/coursework_dataset/test.json')"
   ],
   "metadata": {
    "collapsed": false,
    "ExecuteTime": {
     "end_time": "2024-03-12T11:36:26.326287Z",
     "start_time": "2024-03-12T11:36:26.312517Z"
    }
   },
   "id": "a44de528cc6f0340",
   "execution_count": 5
  },
  {
   "cell_type": "markdown",
   "source": [
    "# Q1 "
   ],
   "metadata": {
    "collapsed": false
   },
   "id": "db8bf9ab1e4b3165"
  },
  {
   "cell_type": "code",
   "outputs": [],
   "source": [
    "def text_pipeline_spacy_special(text):\n",
    "    \"\"\"\n",
    "    This function tokenizes the text using SpaCy.\n",
    "    It removes punctuation and spaces, and converts all text to lowercase.\n",
    "    \n",
    "    Args:\n",
    "    text (str): The text to be tokenized.\n",
    "    \n",
    "    Returns:\n",
    "    list: A list of tokens.\n",
    "    \"\"\"\n",
    "    tokens = []\n",
    "    doc = nlp(text)\n",
    "    for t in doc:\n",
    "        if not t.is_punct and not t.is_space:\n",
    "            tokens.append(t.text.lower())\n",
    "    return tokens"
   ],
   "metadata": {
    "collapsed": false,
    "ExecuteTime": {
     "end_time": "2024-03-12T11:36:26.342216Z",
     "start_time": "2024-03-12T11:36:26.327521Z"
    }
   },
   "id": "1c5e9b949fbceba3",
   "execution_count": 6
  },
  {
   "cell_type": "code",
   "outputs": [],
   "source": [
    "def token_data(df, dataset_name=\"Dataset\"):\n",
    "    \"\"\"\n",
    "    This function tokenizes the questions and options in a dataset.\n",
    "\n",
    "    Args:\n",
    "    df (DataFrame): The dataset to be tokenized.\n",
    "    dataset_name (str): The name of the dataset.\n",
    "\n",
    "    Returns:\n",
    "    DataFrame: A pandas DataFrame containing the tokenized dataset.\n",
    "    \"\"\"\n",
    "    print(f'-------- {dataset_name} --------')\n",
    "    print('Tokenizing questions...')\n",
    "    df['questions_tokens'] = df['question'].progress_apply(text_pipeline_spacy_special)\n",
    "    print('Tokenizing options...')\n",
    "    for i in range(1, 5):\n",
    "        df[f'option{i}_tokens'] = df[f'option{i}'].progress_apply(text_pipeline_spacy_special)\n",
    "    df['correct_options_tokens'] = df.apply(lambda row: row[f'option{row[\"correct_index\"]}_tokens'], axis=1)\n",
    "\n",
    "    df_token = pd.DataFrame({\n",
    "        'questions_tokens': df['questions_tokens'],\n",
    "        'option1_tokens': df['option1_tokens'],\n",
    "        'option2_tokens': df['option2_tokens'],\n",
    "        'option3_tokens': df['option3_tokens'],\n",
    "        'option4_tokens': df['option4_tokens'],\n",
    "        'correct_options_tokens': df['correct_options_tokens'],\n",
    "        'correct_index': df['correct_index']\n",
    "    })\n",
    "\n",
    "    return df_token"
   ],
   "metadata": {
    "collapsed": false,
    "ExecuteTime": {
     "end_time": "2024-03-12T11:36:26.357382Z",
     "start_time": "2024-03-12T11:36:26.343849Z"
    }
   },
   "id": "d4ea28c410f8e1f",
   "execution_count": 7
  },
  {
   "cell_type": "code",
   "outputs": [],
   "source": [
    "def print_df_info(df_token, dataset_name=\"Dataset\"):\n",
    "    \"\"\"\n",
    "    This function prints information about a dataset, including the total number of questions and options,\n",
    "    the average length of questions, options, and correct options.\n",
    "\n",
    "    Args:\n",
    "    df_token (DataFrame): The dataset to be analyzed.\n",
    "    dataset_name (str): The name of the dataset.\n",
    "    \"\"\"\n",
    "    print(f'-------- {dataset_name} --------')\n",
    "    print(f'Total questions: {len(df_token)}')\n",
    "    print(f'Total options: {len(df_token) * 4}')\n",
    "    print(f\"Average question length: {df_token['questions_tokens'].apply(len).mean()}\")\n",
    "    print(\n",
    "        f'Average option length: {df_token[[f\"option{i}_tokens\" for i in range(1, 5)]].apply(lambda x: x.map(len)).mean().mean()}')\n",
    "    print(f'Average correct option length: {df_token[\"correct_options_tokens\"].apply(len).mean()}')"
   ],
   "metadata": {
    "collapsed": false,
    "ExecuteTime": {
     "end_time": "2024-03-12T11:36:26.372755Z",
     "start_time": "2024-03-12T11:36:26.358382Z"
    }
   },
   "id": "a154a962203bac9d",
   "execution_count": 8
  },
  {
   "cell_type": "code",
   "outputs": [
    {
     "name": "stdout",
     "output_type": "stream",
     "text": [
      "-------- Training Data --------\n",
      "Tokenizing questions...\n"
     ]
    },
    {
     "name": "stderr",
     "output_type": "stream",
     "text": [
      "100%|██████████| 741/741 [00:01<00:00, 381.98it/s]\n"
     ]
    },
    {
     "name": "stdout",
     "output_type": "stream",
     "text": [
      "Tokenizing options...\n"
     ]
    },
    {
     "name": "stderr",
     "output_type": "stream",
     "text": [
      "100%|██████████| 741/741 [00:03<00:00, 223.78it/s]\n",
      "100%|██████████| 741/741 [00:03<00:00, 224.52it/s]\n",
      "100%|██████████| 741/741 [00:03<00:00, 226.25it/s]\n",
      "100%|██████████| 741/741 [00:03<00:00, 240.27it/s]\n"
     ]
    },
    {
     "name": "stdout",
     "output_type": "stream",
     "text": [
      "-------- Validation Data --------\n",
      "Tokenizing questions...\n"
     ]
    },
    {
     "name": "stderr",
     "output_type": "stream",
     "text": [
      "100%|██████████| 103/103 [00:00<00:00, 367.76it/s]\n"
     ]
    },
    {
     "name": "stdout",
     "output_type": "stream",
     "text": [
      "Tokenizing options...\n"
     ]
    },
    {
     "name": "stderr",
     "output_type": "stream",
     "text": [
      "100%|██████████| 103/103 [00:00<00:00, 245.30it/s]\n",
      "100%|██████████| 103/103 [00:00<00:00, 232.10it/s]\n",
      "100%|██████████| 103/103 [00:00<00:00, 228.87it/s]\n",
      "100%|██████████| 103/103 [00:00<00:00, 230.40it/s]\n"
     ]
    },
    {
     "name": "stdout",
     "output_type": "stream",
     "text": [
      "-------- Test Data --------\n",
      "Tokenizing questions...\n"
     ]
    },
    {
     "name": "stderr",
     "output_type": "stream",
     "text": [
      "100%|██████████| 202/202 [00:00<00:00, 384.17it/s]\n"
     ]
    },
    {
     "name": "stdout",
     "output_type": "stream",
     "text": [
      "Tokenizing options...\n"
     ]
    },
    {
     "name": "stderr",
     "output_type": "stream",
     "text": [
      "100%|██████████| 202/202 [00:00<00:00, 232.29it/s]\n",
      "100%|██████████| 202/202 [00:00<00:00, 245.36it/s]\n",
      "100%|██████████| 202/202 [00:00<00:00, 240.65it/s]\n",
      "100%|██████████| 202/202 [00:00<00:00, 231.70it/s]\n"
     ]
    }
   ],
   "source": [
    "df_token_train = token_data(df_train, dataset_name=\"Training Data\")\n",
    "df_token_val = token_data(df_val, dataset_name=\"Validation Data\")\n",
    "df_token_test = token_data(df_test, dataset_name=\"Test Data\")"
   ],
   "metadata": {
    "collapsed": false,
    "ExecuteTime": {
     "end_time": "2024-03-12T11:36:47.308708Z",
     "start_time": "2024-03-12T11:36:26.373760Z"
    }
   },
   "id": "436c56d8c5a5a96b",
   "execution_count": 9
  },
  {
   "cell_type": "code",
   "outputs": [
    {
     "data": {
      "text/plain": "                                      questions_tokens  \\\n0                   [how, are, glacier, caves, formed]   \n1            [how, much, is, 1, tablespoon, of, water]   \n2    [how, much, are, the, harry, potter, movies, w...   \n3                      [how, a, rocket, engine, works]   \n4    [how, are, cholera, and, typhus, transmitted, ...   \n..                                                 ...   \n736              [what, is, melissa, and, joey, about]   \n737                  [what, is, an, economic, feature]   \n738         [what, is, the, average, american, income]   \n739              [when, was, apple, computer, founded]   \n740                [what, is, section, eight, housing]   \n\n                                        option1_tokens  \\\n0    [the, ice, facade, is, approximately, 60, m, h...   \n1    [in, the, uk, europe, and, most, commonwealth,...   \n2    [harry, potter, is, a, series, of, seven, fant...   \n3    [rs-68, being, tested, at, nasa, 's, stennis, ...   \n4    [cholera, is, an, infection, in, the, small, i...   \n..                                                 ...   \n736  [the, series, follows, local, politician, mel,...   \n737  [economics, is, the, social, science, that, an...   \n738        [median, us, household, income, 2001, 2011]   \n739  [apple, inc., formerly, apple, computer, inc.,...   \n740  [the, housing, choice, voucher, program, provi...   \n\n                                        option2_tokens  \\\n0    [a, partly, submerged, glacier, cave, on, peri...   \n1    [in, the, us, and, parts, of, canada, a, table...   \n2    [the, main, story, arc, concerns, harry, 's, q...   \n3    [the, nearly, transparent, exhaust, is, due, t...   \n4    [the, main, symptoms, are, watery, diarrhea, a...   \n..                                                 ...   \n736  [melissa, joey, is, an, abc, family, original,...   \n737  [the, term, economics, comes, from, the, ancie...   \n738  [u.s., median, household, income, fell, from, ...   \n739  [its, software, includes, the, os, x, and, ios...   \n740       [section, 8, housing, in, the, south, bronx]   \n\n                                        option3_tokens  \\\n0    [ice, formations, in, the, titlis, glacier, cave]   \n1    [this, tablespoon, has, a, capacity, of, about...   \n2    [the, books, chronicle, the, adventures, of, a...   \n3    [a, rocket, engine, or, simply, rocket, is, a,...   \n4    [the, severity, of, the, diarrhea, and, vomiti...   \n..                                                 ...   \n736  [it, first, aired, on, abc, family, on, august...   \n737  [other, broad, distinctions, include, those, b...   \n738      [us, county, household, median, income, 2009]   \n739  [the, company, was, founded, on, april, 1, 197...   \n740  [the, us, department, of, housing, and, urban,...   \n\n                                        option4_tokens  \\\n0    [a, glacier, cave, is, a, cave, formed, within...   \n1                                  [measuring, spoons]   \n2    [the, series, also, originated, much, tie, in,...   \n3                         [viking, 5c, rocket, engine]   \n4    [transmission, occurs, primarily, by, drinking...   \n..                                                 ...   \n736  [the, series, was, renewed, by, abc, family, f...   \n737  [political, economy, was, the, earlier, name, ...   \n738  [household, income, is, a, measure, commonly, ...   \n739  [its, best, known, hardware, products, are, th...   \n740  [section, 8, of, the, housing, act, of, 1937, ...   \n\n                                correct_options_tokens  correct_index  \n0    [a, glacier, cave, is, a, cave, formed, within...              4  \n1    [this, tablespoon, has, a, capacity, of, about...              3  \n2    [the, series, also, originated, much, tie, in,...              4  \n3    [a, rocket, engine, or, simply, rocket, is, a,...              3  \n4    [transmission, occurs, primarily, by, drinking...              4  \n..                                                 ...            ...  \n736  [the, series, follows, local, politician, mel,...              1  \n737  [other, broad, distinctions, include, those, b...              3  \n738  [u.s., median, household, income, fell, from, ...              2  \n739  [the, company, was, founded, on, april, 1, 197...              3  \n740  [section, 8, of, the, housing, act, of, 1937, ...              4  \n\n[741 rows x 7 columns]",
      "text/html": "<div>\n<style scoped>\n    .dataframe tbody tr th:only-of-type {\n        vertical-align: middle;\n    }\n\n    .dataframe tbody tr th {\n        vertical-align: top;\n    }\n\n    .dataframe thead th {\n        text-align: right;\n    }\n</style>\n<table border=\"1\" class=\"dataframe\">\n  <thead>\n    <tr style=\"text-align: right;\">\n      <th></th>\n      <th>questions_tokens</th>\n      <th>option1_tokens</th>\n      <th>option2_tokens</th>\n      <th>option3_tokens</th>\n      <th>option4_tokens</th>\n      <th>correct_options_tokens</th>\n      <th>correct_index</th>\n    </tr>\n  </thead>\n  <tbody>\n    <tr>\n      <th>0</th>\n      <td>[how, are, glacier, caves, formed]</td>\n      <td>[the, ice, facade, is, approximately, 60, m, h...</td>\n      <td>[a, partly, submerged, glacier, cave, on, peri...</td>\n      <td>[ice, formations, in, the, titlis, glacier, cave]</td>\n      <td>[a, glacier, cave, is, a, cave, formed, within...</td>\n      <td>[a, glacier, cave, is, a, cave, formed, within...</td>\n      <td>4</td>\n    </tr>\n    <tr>\n      <th>1</th>\n      <td>[how, much, is, 1, tablespoon, of, water]</td>\n      <td>[in, the, uk, europe, and, most, commonwealth,...</td>\n      <td>[in, the, us, and, parts, of, canada, a, table...</td>\n      <td>[this, tablespoon, has, a, capacity, of, about...</td>\n      <td>[measuring, spoons]</td>\n      <td>[this, tablespoon, has, a, capacity, of, about...</td>\n      <td>3</td>\n    </tr>\n    <tr>\n      <th>2</th>\n      <td>[how, much, are, the, harry, potter, movies, w...</td>\n      <td>[harry, potter, is, a, series, of, seven, fant...</td>\n      <td>[the, main, story, arc, concerns, harry, 's, q...</td>\n      <td>[the, books, chronicle, the, adventures, of, a...</td>\n      <td>[the, series, also, originated, much, tie, in,...</td>\n      <td>[the, series, also, originated, much, tie, in,...</td>\n      <td>4</td>\n    </tr>\n    <tr>\n      <th>3</th>\n      <td>[how, a, rocket, engine, works]</td>\n      <td>[rs-68, being, tested, at, nasa, 's, stennis, ...</td>\n      <td>[the, nearly, transparent, exhaust, is, due, t...</td>\n      <td>[a, rocket, engine, or, simply, rocket, is, a,...</td>\n      <td>[viking, 5c, rocket, engine]</td>\n      <td>[a, rocket, engine, or, simply, rocket, is, a,...</td>\n      <td>3</td>\n    </tr>\n    <tr>\n      <th>4</th>\n      <td>[how, are, cholera, and, typhus, transmitted, ...</td>\n      <td>[cholera, is, an, infection, in, the, small, i...</td>\n      <td>[the, main, symptoms, are, watery, diarrhea, a...</td>\n      <td>[the, severity, of, the, diarrhea, and, vomiti...</td>\n      <td>[transmission, occurs, primarily, by, drinking...</td>\n      <td>[transmission, occurs, primarily, by, drinking...</td>\n      <td>4</td>\n    </tr>\n    <tr>\n      <th>...</th>\n      <td>...</td>\n      <td>...</td>\n      <td>...</td>\n      <td>...</td>\n      <td>...</td>\n      <td>...</td>\n      <td>...</td>\n    </tr>\n    <tr>\n      <th>736</th>\n      <td>[what, is, melissa, and, joey, about]</td>\n      <td>[the, series, follows, local, politician, mel,...</td>\n      <td>[melissa, joey, is, an, abc, family, original,...</td>\n      <td>[it, first, aired, on, abc, family, on, august...</td>\n      <td>[the, series, was, renewed, by, abc, family, f...</td>\n      <td>[the, series, follows, local, politician, mel,...</td>\n      <td>1</td>\n    </tr>\n    <tr>\n      <th>737</th>\n      <td>[what, is, an, economic, feature]</td>\n      <td>[economics, is, the, social, science, that, an...</td>\n      <td>[the, term, economics, comes, from, the, ancie...</td>\n      <td>[other, broad, distinctions, include, those, b...</td>\n      <td>[political, economy, was, the, earlier, name, ...</td>\n      <td>[other, broad, distinctions, include, those, b...</td>\n      <td>3</td>\n    </tr>\n    <tr>\n      <th>738</th>\n      <td>[what, is, the, average, american, income]</td>\n      <td>[median, us, household, income, 2001, 2011]</td>\n      <td>[u.s., median, household, income, fell, from, ...</td>\n      <td>[us, county, household, median, income, 2009]</td>\n      <td>[household, income, is, a, measure, commonly, ...</td>\n      <td>[u.s., median, household, income, fell, from, ...</td>\n      <td>2</td>\n    </tr>\n    <tr>\n      <th>739</th>\n      <td>[when, was, apple, computer, founded]</td>\n      <td>[apple, inc., formerly, apple, computer, inc.,...</td>\n      <td>[its, software, includes, the, os, x, and, ios...</td>\n      <td>[the, company, was, founded, on, april, 1, 197...</td>\n      <td>[its, best, known, hardware, products, are, th...</td>\n      <td>[the, company, was, founded, on, april, 1, 197...</td>\n      <td>3</td>\n    </tr>\n    <tr>\n      <th>740</th>\n      <td>[what, is, section, eight, housing]</td>\n      <td>[the, housing, choice, voucher, program, provi...</td>\n      <td>[section, 8, housing, in, the, south, bronx]</td>\n      <td>[the, us, department, of, housing, and, urban,...</td>\n      <td>[section, 8, of, the, housing, act, of, 1937, ...</td>\n      <td>[section, 8, of, the, housing, act, of, 1937, ...</td>\n      <td>4</td>\n    </tr>\n  </tbody>\n</table>\n<p>741 rows × 7 columns</p>\n</div>"
     },
     "execution_count": 10,
     "metadata": {},
     "output_type": "execute_result"
    }
   ],
   "source": [
    "df_token_train"
   ],
   "metadata": {
    "collapsed": false,
    "ExecuteTime": {
     "end_time": "2024-03-12T11:36:47.339599Z",
     "start_time": "2024-03-12T11:36:47.310720Z"
    }
   },
   "id": "d394b8eeb8bf9423",
   "execution_count": 10
  },
  {
   "cell_type": "code",
   "outputs": [
    {
     "data": {
      "text/plain": "                                      questions_tokens  \\\n0       [how, big, is, bmc, software, in, houston, tx]   \n1        [how, long, was, i, love, lucy, on, the, air]   \n2    [how, did, armando, christian, perez, become, ...   \n3                   [what, bird, family, is, the, owl]   \n4    [how, many, people, were, killed, in, the, okl...   \n..                                                 ...   \n98       [who, is, the, highest, scoring, nba, player]   \n99              [what, is, direct, marketing, channel]   \n100             [what, is, disney, 's, magic, kingdom]   \n101  [what, is, the, name, of, the, family, who, ow...   \n102  [what, is, the, name, of, chris, cornell, 's, ...   \n\n                                        option1_tokens  \\\n0    [headquartered, in, houston, texas, bmc, devel...   \n1    [i, love, lucy, was, the, most, watched, show,...   \n2    [his, first, recorded, performance, was, from,...   \n3    [most, are, solitary, and, nocturnal, with, so...   \n4    [the, oklahoma, city, bombing, was, a, domesti...   \n..                                                 ...   \n98   [the, national, basketball, association, 's, n...   \n99   [characteristics, that, distinguish, direct, m...   \n100  [in, 2011, the, park, hosted, approximately, 1...   \n101  [biltmore, estate, is, a, large, private, esta...   \n102  [he, is, also, known, for, his, numerous, solo...   \n\n                                        option2_tokens  \\\n0    [bmc, software, inc., is, an, american, compan...   \n1    [after, the, series, ended, in, 1957, however,...   \n2    [since, then, he, has, released, three, other,...   \n3    [owls, hunt, mostly, small, mammals, insects, ...   \n4    [it, would, remain, the, most, destructive, ac...   \n..                                                 ...   \n98   [michael, jordan, has, won, ten, scoring, titl...   \n99   [direct, marketing, messages, emphasize, a, fo...   \n100                 [it, opened, on, october, 1, 1971]   \n101  [still, owned, by, one, of, vanderbilt, 's, de...   \n102  [chris, cornell, born, christopher, john, boyl...   \n\n                                        option3_tokens  \\\n0    [the, name, bmc, is, taken, from, the, surname...   \n1    [the, black, and, white, series, originally, r...   \n2    [in, 2004, he, released, his, debut, album, ti...   \n3    [owls, are, a, group, of, birds, that, belong,...   \n4    [the, blast, destroyed, or, damaged, 324, buil...   \n..                                                 ...   \n98   [wilt, chamberlain, holds, the, all, time, rec...   \n99   [marketing, messages, are, addressed, directly...   \n100  [magic, kingdom, park, also, known, as, magic,...   \n101  [in, 2007, it, was, ranked, eighth, in, americ...   \n102  [he, has, released, three, solo, studio, album...   \n\n                                        option4_tokens  \\\n0    [employing, over, 6,000, bmc, is, often, credi...   \n1    [i, love, lucy, is, an, american, television, ...   \n2    [armando, pérez, born, january, 15, 1981, bett...   \n3    [they, are, found, in, all, regions, of, the, ...   \n4    [the, oklahoma, blast, claimed, 168, lives, in...   \n..                                                 ...   \n98   [in, basketball, points, are, the, sum, of, th...   \n99   [direct, marketing, is, a, channel, agnostic, ...   \n100  [designed, and, built, by, wed, enterprises, i...   \n101  [biltmore, house, the, main, house, on, the, e...   \n102  [cornell, 's, signature, prowess, as, a, music...   \n\n                                correct_options_tokens  correct_index  \n0    [employing, over, 6,000, bmc, is, often, credi...              4  \n1    [the, black, and, white, series, originally, r...              3  \n2    [armando, pérez, born, january, 15, 1981, bett...              4  \n3    [owls, are, a, group, of, birds, that, belong,...              3  \n4    [the, oklahoma, blast, claimed, 168, lives, in...              4  \n..                                                 ...            ...  \n98   [wilt, chamberlain, holds, the, all, time, rec...              3  \n99   [direct, marketing, is, a, channel, agnostic, ...              4  \n100  [magic, kingdom, park, also, known, as, magic,...              3  \n101  [still, owned, by, one, of, vanderbilt, 's, de...              2  \n102  [chris, cornell, born, christopher, john, boyl...              2  \n\n[103 rows x 7 columns]",
      "text/html": "<div>\n<style scoped>\n    .dataframe tbody tr th:only-of-type {\n        vertical-align: middle;\n    }\n\n    .dataframe tbody tr th {\n        vertical-align: top;\n    }\n\n    .dataframe thead th {\n        text-align: right;\n    }\n</style>\n<table border=\"1\" class=\"dataframe\">\n  <thead>\n    <tr style=\"text-align: right;\">\n      <th></th>\n      <th>questions_tokens</th>\n      <th>option1_tokens</th>\n      <th>option2_tokens</th>\n      <th>option3_tokens</th>\n      <th>option4_tokens</th>\n      <th>correct_options_tokens</th>\n      <th>correct_index</th>\n    </tr>\n  </thead>\n  <tbody>\n    <tr>\n      <th>0</th>\n      <td>[how, big, is, bmc, software, in, houston, tx]</td>\n      <td>[headquartered, in, houston, texas, bmc, devel...</td>\n      <td>[bmc, software, inc., is, an, american, compan...</td>\n      <td>[the, name, bmc, is, taken, from, the, surname...</td>\n      <td>[employing, over, 6,000, bmc, is, often, credi...</td>\n      <td>[employing, over, 6,000, bmc, is, often, credi...</td>\n      <td>4</td>\n    </tr>\n    <tr>\n      <th>1</th>\n      <td>[how, long, was, i, love, lucy, on, the, air]</td>\n      <td>[i, love, lucy, was, the, most, watched, show,...</td>\n      <td>[after, the, series, ended, in, 1957, however,...</td>\n      <td>[the, black, and, white, series, originally, r...</td>\n      <td>[i, love, lucy, is, an, american, television, ...</td>\n      <td>[the, black, and, white, series, originally, r...</td>\n      <td>3</td>\n    </tr>\n    <tr>\n      <th>2</th>\n      <td>[how, did, armando, christian, perez, become, ...</td>\n      <td>[his, first, recorded, performance, was, from,...</td>\n      <td>[since, then, he, has, released, three, other,...</td>\n      <td>[in, 2004, he, released, his, debut, album, ti...</td>\n      <td>[armando, pérez, born, january, 15, 1981, bett...</td>\n      <td>[armando, pérez, born, january, 15, 1981, bett...</td>\n      <td>4</td>\n    </tr>\n    <tr>\n      <th>3</th>\n      <td>[what, bird, family, is, the, owl]</td>\n      <td>[most, are, solitary, and, nocturnal, with, so...</td>\n      <td>[owls, hunt, mostly, small, mammals, insects, ...</td>\n      <td>[owls, are, a, group, of, birds, that, belong,...</td>\n      <td>[they, are, found, in, all, regions, of, the, ...</td>\n      <td>[owls, are, a, group, of, birds, that, belong,...</td>\n      <td>3</td>\n    </tr>\n    <tr>\n      <th>4</th>\n      <td>[how, many, people, were, killed, in, the, okl...</td>\n      <td>[the, oklahoma, city, bombing, was, a, domesti...</td>\n      <td>[it, would, remain, the, most, destructive, ac...</td>\n      <td>[the, blast, destroyed, or, damaged, 324, buil...</td>\n      <td>[the, oklahoma, blast, claimed, 168, lives, in...</td>\n      <td>[the, oklahoma, blast, claimed, 168, lives, in...</td>\n      <td>4</td>\n    </tr>\n    <tr>\n      <th>...</th>\n      <td>...</td>\n      <td>...</td>\n      <td>...</td>\n      <td>...</td>\n      <td>...</td>\n      <td>...</td>\n      <td>...</td>\n    </tr>\n    <tr>\n      <th>98</th>\n      <td>[who, is, the, highest, scoring, nba, player]</td>\n      <td>[the, national, basketball, association, 's, n...</td>\n      <td>[michael, jordan, has, won, ten, scoring, titl...</td>\n      <td>[wilt, chamberlain, holds, the, all, time, rec...</td>\n      <td>[in, basketball, points, are, the, sum, of, th...</td>\n      <td>[wilt, chamberlain, holds, the, all, time, rec...</td>\n      <td>3</td>\n    </tr>\n    <tr>\n      <th>99</th>\n      <td>[what, is, direct, marketing, channel]</td>\n      <td>[characteristics, that, distinguish, direct, m...</td>\n      <td>[direct, marketing, messages, emphasize, a, fo...</td>\n      <td>[marketing, messages, are, addressed, directly...</td>\n      <td>[direct, marketing, is, a, channel, agnostic, ...</td>\n      <td>[direct, marketing, is, a, channel, agnostic, ...</td>\n      <td>4</td>\n    </tr>\n    <tr>\n      <th>100</th>\n      <td>[what, is, disney, 's, magic, kingdom]</td>\n      <td>[in, 2011, the, park, hosted, approximately, 1...</td>\n      <td>[it, opened, on, october, 1, 1971]</td>\n      <td>[magic, kingdom, park, also, known, as, magic,...</td>\n      <td>[designed, and, built, by, wed, enterprises, i...</td>\n      <td>[magic, kingdom, park, also, known, as, magic,...</td>\n      <td>3</td>\n    </tr>\n    <tr>\n      <th>101</th>\n      <td>[what, is, the, name, of, the, family, who, ow...</td>\n      <td>[biltmore, estate, is, a, large, private, esta...</td>\n      <td>[still, owned, by, one, of, vanderbilt, 's, de...</td>\n      <td>[in, 2007, it, was, ranked, eighth, in, americ...</td>\n      <td>[biltmore, house, the, main, house, on, the, e...</td>\n      <td>[still, owned, by, one, of, vanderbilt, 's, de...</td>\n      <td>2</td>\n    </tr>\n    <tr>\n      <th>102</th>\n      <td>[what, is, the, name, of, chris, cornell, 's, ...</td>\n      <td>[he, is, also, known, for, his, numerous, solo...</td>\n      <td>[chris, cornell, born, christopher, john, boyl...</td>\n      <td>[he, has, released, three, solo, studio, album...</td>\n      <td>[cornell, 's, signature, prowess, as, a, music...</td>\n      <td>[chris, cornell, born, christopher, john, boyl...</td>\n      <td>2</td>\n    </tr>\n  </tbody>\n</table>\n<p>103 rows × 7 columns</p>\n</div>"
     },
     "execution_count": 11,
     "metadata": {},
     "output_type": "execute_result"
    }
   ],
   "source": [
    "df_token_val"
   ],
   "metadata": {
    "collapsed": false,
    "ExecuteTime": {
     "end_time": "2024-03-12T11:36:47.370427Z",
     "start_time": "2024-03-12T11:36:47.341683Z"
    }
   },
   "id": "5a831619d581b67a",
   "execution_count": 11
  },
  {
   "cell_type": "code",
   "outputs": [
    {
     "data": {
      "text/plain": "                                      questions_tokens  \\\n0    [how, african, americans, were, immigrated, to...   \n1                         [how, a, water, pump, works]   \n2    [how, old, was, sue, lyon, when, she, made, lo...   \n3                     [how, are, antibodies, used, in]   \n4                [how, much, is, centavos, in, mexico]   \n..                                                 ...   \n197         [what, is, the, latest, season, of, psych]   \n198     [what, is, the, main, component, of, vaccines]   \n199          [who, are, all, of, the, jonas, brothers]   \n200              [who, is, mary, matalin, married, to]   \n201                    [where, is, the, brisket, from]   \n\n                                        option1_tokens  \\\n0    [the, term, african, in, the, scope, of, this,...   \n1    [a, pump, is, a, device, that, moves, fluids, ...   \n2    [lolita, is, a, 1962, comedy, drama, film, by,...   \n3    [each, antibody, binds, to, a, specific, antig...   \n4    [the, peso, sign, $, code, mxn, is, the, curre...   \n..                                                 ...   \n197  [psych, is, an, american, detective, comedy, d...   \n198  [a, vaccine, is, a, biological, preparation, t...   \n199  [the, jonas, brothers, are, an, american, pop,...   \n200  [she, is, married, to, democratic, political, ...   \n201  [american, cuts, of, beef, including, the, bri...   \n\n                                        option2_tokens  \\\n0    [african, immigration, to, the, united, states...   \n1    [a, large, electrically, driven, pump, electro...   \n2    [due, to, the, mpaa, 's, restrictions, at, the...   \n3    [the, production, of, antibodies, is, the, mai...   \n4    [modern, peso, and, dollar, currencies, have, ...   \n..                                                 ...   \n197  [the, series, stars, james, roday, as, shawn, ...   \n198  [a, vaccine, typically, contains, an, agent, t...   \n199  [brothers, also, starring, in, tv, series, dis...   \n200    [this, is, about, the, political, professional]   \n201  [the, brisket, muscles, include, the, superfic...   \n\n                                        option3_tokens  \\\n0    [from, the, immigration, and, nationality, act...   \n1    [pumps, operate, by, some, mechanism, typicall...   \n2    [the, film, stars, james, mason, as, humbert, ...   \n3    [an, antibody, ab, also, known, as, an, immuno...   \n4    [the, mexican, peso, is, the, 13th, most, trad...   \n..                                                 ...   \n197  [it, is, produced, by, franks, and, tagline, t...   \n198  [the, agent, stimulates, the, body, 's, immune...   \n199  [in, the, summer, of, 2008, they, starred, in,...   \n200           [for, the, actress, see, marlee, matlin]   \n201  [brisket, is, a, cut, of, meat, from, the, bre...   \n\n                                        option4_tokens  \\\n0    [as, such, african, immigrants, are, to, be, d...   \n1              [a, small, electrically, powered, pump]   \n2    [the, actress, who, played, lolita, sue, lyon,...   \n3    [antibodies, are, secreted, by, a, type, of, w...   \n4    [the, peso, is, subdivided, into, 100, centavo...   \n..                                                 ...   \n197  [psych, began, its, seventh, season, on, febru...   \n198  [jonas, salk, in, 1955, holds, two, bottles, o...   \n199  [formed, in, 2005, they, have, gained, popular...   \n200  [mary, joe, matalin, born, august, 19, 1953, i...   \n201  [the, beef, brisket, is, one, of, the, nine, b...   \n\n                                correct_options_tokens  correct_index  \n0    [as, such, african, immigrants, are, to, be, d...              4  \n1    [pumps, operate, by, some, mechanism, typicall...              3  \n2    [the, actress, who, played, lolita, sue, lyon,...              4  \n3    [an, antibody, ab, also, known, as, an, immuno...              3  \n4    [the, peso, is, subdivided, into, 100, centavo...              4  \n..                                                 ...            ...  \n197  [psych, began, its, seventh, season, on, febru...              4  \n198  [the, agent, stimulates, the, body, 's, immune...              3  \n199  [formed, in, 2005, they, have, gained, popular...              4  \n200  [she, is, married, to, democratic, political, ...              1  \n201  [brisket, is, a, cut, of, meat, from, the, bre...              3  \n\n[202 rows x 7 columns]",
      "text/html": "<div>\n<style scoped>\n    .dataframe tbody tr th:only-of-type {\n        vertical-align: middle;\n    }\n\n    .dataframe tbody tr th {\n        vertical-align: top;\n    }\n\n    .dataframe thead th {\n        text-align: right;\n    }\n</style>\n<table border=\"1\" class=\"dataframe\">\n  <thead>\n    <tr style=\"text-align: right;\">\n      <th></th>\n      <th>questions_tokens</th>\n      <th>option1_tokens</th>\n      <th>option2_tokens</th>\n      <th>option3_tokens</th>\n      <th>option4_tokens</th>\n      <th>correct_options_tokens</th>\n      <th>correct_index</th>\n    </tr>\n  </thead>\n  <tbody>\n    <tr>\n      <th>0</th>\n      <td>[how, african, americans, were, immigrated, to...</td>\n      <td>[the, term, african, in, the, scope, of, this,...</td>\n      <td>[african, immigration, to, the, united, states...</td>\n      <td>[from, the, immigration, and, nationality, act...</td>\n      <td>[as, such, african, immigrants, are, to, be, d...</td>\n      <td>[as, such, african, immigrants, are, to, be, d...</td>\n      <td>4</td>\n    </tr>\n    <tr>\n      <th>1</th>\n      <td>[how, a, water, pump, works]</td>\n      <td>[a, pump, is, a, device, that, moves, fluids, ...</td>\n      <td>[a, large, electrically, driven, pump, electro...</td>\n      <td>[pumps, operate, by, some, mechanism, typicall...</td>\n      <td>[a, small, electrically, powered, pump]</td>\n      <td>[pumps, operate, by, some, mechanism, typicall...</td>\n      <td>3</td>\n    </tr>\n    <tr>\n      <th>2</th>\n      <td>[how, old, was, sue, lyon, when, she, made, lo...</td>\n      <td>[lolita, is, a, 1962, comedy, drama, film, by,...</td>\n      <td>[due, to, the, mpaa, 's, restrictions, at, the...</td>\n      <td>[the, film, stars, james, mason, as, humbert, ...</td>\n      <td>[the, actress, who, played, lolita, sue, lyon,...</td>\n      <td>[the, actress, who, played, lolita, sue, lyon,...</td>\n      <td>4</td>\n    </tr>\n    <tr>\n      <th>3</th>\n      <td>[how, are, antibodies, used, in]</td>\n      <td>[each, antibody, binds, to, a, specific, antig...</td>\n      <td>[the, production, of, antibodies, is, the, mai...</td>\n      <td>[an, antibody, ab, also, known, as, an, immuno...</td>\n      <td>[antibodies, are, secreted, by, a, type, of, w...</td>\n      <td>[an, antibody, ab, also, known, as, an, immuno...</td>\n      <td>3</td>\n    </tr>\n    <tr>\n      <th>4</th>\n      <td>[how, much, is, centavos, in, mexico]</td>\n      <td>[the, peso, sign, $, code, mxn, is, the, curre...</td>\n      <td>[modern, peso, and, dollar, currencies, have, ...</td>\n      <td>[the, mexican, peso, is, the, 13th, most, trad...</td>\n      <td>[the, peso, is, subdivided, into, 100, centavo...</td>\n      <td>[the, peso, is, subdivided, into, 100, centavo...</td>\n      <td>4</td>\n    </tr>\n    <tr>\n      <th>...</th>\n      <td>...</td>\n      <td>...</td>\n      <td>...</td>\n      <td>...</td>\n      <td>...</td>\n      <td>...</td>\n      <td>...</td>\n    </tr>\n    <tr>\n      <th>197</th>\n      <td>[what, is, the, latest, season, of, psych]</td>\n      <td>[psych, is, an, american, detective, comedy, d...</td>\n      <td>[the, series, stars, james, roday, as, shawn, ...</td>\n      <td>[it, is, produced, by, franks, and, tagline, t...</td>\n      <td>[psych, began, its, seventh, season, on, febru...</td>\n      <td>[psych, began, its, seventh, season, on, febru...</td>\n      <td>4</td>\n    </tr>\n    <tr>\n      <th>198</th>\n      <td>[what, is, the, main, component, of, vaccines]</td>\n      <td>[a, vaccine, is, a, biological, preparation, t...</td>\n      <td>[a, vaccine, typically, contains, an, agent, t...</td>\n      <td>[the, agent, stimulates, the, body, 's, immune...</td>\n      <td>[jonas, salk, in, 1955, holds, two, bottles, o...</td>\n      <td>[the, agent, stimulates, the, body, 's, immune...</td>\n      <td>3</td>\n    </tr>\n    <tr>\n      <th>199</th>\n      <td>[who, are, all, of, the, jonas, brothers]</td>\n      <td>[the, jonas, brothers, are, an, american, pop,...</td>\n      <td>[brothers, also, starring, in, tv, series, dis...</td>\n      <td>[in, the, summer, of, 2008, they, starred, in,...</td>\n      <td>[formed, in, 2005, they, have, gained, popular...</td>\n      <td>[formed, in, 2005, they, have, gained, popular...</td>\n      <td>4</td>\n    </tr>\n    <tr>\n      <th>200</th>\n      <td>[who, is, mary, matalin, married, to]</td>\n      <td>[she, is, married, to, democratic, political, ...</td>\n      <td>[this, is, about, the, political, professional]</td>\n      <td>[for, the, actress, see, marlee, matlin]</td>\n      <td>[mary, joe, matalin, born, august, 19, 1953, i...</td>\n      <td>[she, is, married, to, democratic, political, ...</td>\n      <td>1</td>\n    </tr>\n    <tr>\n      <th>201</th>\n      <td>[where, is, the, brisket, from]</td>\n      <td>[american, cuts, of, beef, including, the, bri...</td>\n      <td>[the, brisket, muscles, include, the, superfic...</td>\n      <td>[brisket, is, a, cut, of, meat, from, the, bre...</td>\n      <td>[the, beef, brisket, is, one, of, the, nine, b...</td>\n      <td>[brisket, is, a, cut, of, meat, from, the, bre...</td>\n      <td>3</td>\n    </tr>\n  </tbody>\n</table>\n<p>202 rows × 7 columns</p>\n</div>"
     },
     "execution_count": 12,
     "metadata": {},
     "output_type": "execute_result"
    }
   ],
   "source": [
    "df_token_test"
   ],
   "metadata": {
    "collapsed": false,
    "ExecuteTime": {
     "end_time": "2024-03-12T11:36:47.402038Z",
     "start_time": "2024-03-12T11:36:47.371427Z"
    }
   },
   "id": "56efa35010b7cded",
   "execution_count": 12
  },
  {
   "cell_type": "code",
   "outputs": [
    {
     "name": "stdout",
     "output_type": "stream",
     "text": [
      "-------- Dataset --------\n",
      "Total questions: 741\n",
      "Total options: 2964\n",
      "Average question length: 6.272604588394062\n",
      "Average option length: 22.33805668016194\n",
      "Average correct option length: 26.032388663967613\n",
      "-------- Dataset --------\n",
      "Total questions: 103\n",
      "Total options: 412\n",
      "Average question length: 6.466019417475728\n",
      "Average option length: 21.2742718446602\n",
      "Average correct option length: 25.25242718446602\n",
      "-------- Dataset --------\n",
      "Total questions: 202\n",
      "Total options: 808\n",
      "Average question length: 6.366336633663367\n",
      "Average option length: 21.74876237623762\n",
      "Average correct option length: 24.405940594059405\n"
     ]
    }
   ],
   "source": [
    "# Print analysis results\n",
    "print_df_info(df_token_train)\n",
    "print_df_info(df_token_val)\n",
    "print_df_info(df_token_test)\n"
   ],
   "metadata": {
    "collapsed": false,
    "ExecuteTime": {
     "end_time": "2024-03-12T11:36:47.417253Z",
     "start_time": "2024-03-12T11:36:47.403038Z"
    }
   },
   "id": "3894579dd0dee4a8",
   "execution_count": 13
  },
  {
   "cell_type": "markdown",
   "source": [
    "## 1.1 How many questions and options are there in each split? [1 mark]\n",
    "\n",
    "|                 | Training Data | Validation Data | Test Data |\n",
    "|-----------------|---------------|-----------------|-----------|\n",
    "| total_questions | 741           | 103             | 202       |\n",
    "| total_options   | 2964          | 412             | 808       | \n",
    "\n",
    "## 1.2 What is the average number of tokens per question in the training set? [1 mark]\n",
    "- According to the project output, the training set had an average of 6.2726 tokens in the problem\n",
    "## 1.3 What is the average number of tokens per choice in the training set? [1 mark]\n",
    "- According to the project output, the training set had an average of 22.3381 tokens in the options\n",
    "## 1.4 What is the average number of tokens per correct choice in the training set? [1 mark]\n",
    "- According to the project output, the training set had an average of 26.0324 tokens in the correct options"
   ],
   "metadata": {
    "collapsed": false
   },
   "id": "7179d8fc45610f25"
  },
  {
   "cell_type": "code",
   "outputs": [],
   "source": [
    "def plot_length_distributions(df, dataset_name, axs):\n",
    "    \"\"\"\n",
    "    This function plots the length distributions of questions, options, and correct options in a dataset.\n",
    "\n",
    "    Args:\n",
    "    df (DataFrame): The dataset to be analyzed.\n",
    "    dataset_name (str): The name of the dataset.\n",
    "    axs (matplotlib.axes.Axes): The axes on which to plot the distributions.\n",
    "    \"\"\"\n",
    "    questions_lengths = df['questions_tokens'].str.len()\n",
    "    options_lengths = df[[f'option{i}_tokens' for i in range(1, 5)]].apply(lambda x: x.str.len()).values.flatten()\n",
    "    correct_option_lengths = df['correct_options_tokens'].str.len()\n",
    "\n",
    "    axs[0].hist(questions_lengths, bins=20)\n",
    "    axs[0].set_title(f'Question Lengths in {dataset_name}')\n",
    "    axs[0].set_xlabel('Question Length')\n",
    "    axs[0].set_ylabel('Frequency')\n",
    "\n",
    "    axs[1].hist(options_lengths, bins=20)\n",
    "    axs[1].set_title(f'Option Lengths in {dataset_name}')\n",
    "    axs[1].set_xlabel('Option Length')\n",
    "    axs[1].set_ylabel('Frequency')\n",
    "\n",
    "    axs[2].hist(correct_option_lengths, bins=20)\n",
    "    axs[2].set_title(f'Correct Option Lengths in {dataset_name}')\n",
    "    axs[2].set_xlabel('Correct Option Length')\n",
    "    axs[2].set_ylabel('Frequency')"
   ],
   "metadata": {
    "collapsed": false,
    "ExecuteTime": {
     "end_time": "2024-03-12T11:36:47.433868Z",
     "start_time": "2024-03-12T11:36:47.418258Z"
    }
   },
   "id": "7d3156d14aa76ac0",
   "execution_count": 14
  },
  {
   "cell_type": "code",
   "outputs": [],
   "source": [
    "def plot_data_distributions(df_1, df_2, df_3):\n",
    "    \"\"\"\n",
    "    This function plots the data distributions of three datasets.\n",
    "\n",
    "    Args:\n",
    "    df_1 (DataFrame): The Train dataset to be plotted.\n",
    "    df_2 (DataFrame): The Validation  dataset to be plotted.\n",
    "    df_3 (DataFrame): The Test dataset to be plotted.\n",
    "    \"\"\"\n",
    "    # Create a figure with 9 subplots\n",
    "    fig, axs = plt.subplots(3, 3, figsize=(15, 15))\n",
    "\n",
    "    # Plot length distributions for training data\n",
    "    plot_length_distributions(df_1, dataset_name=\"Training Data\", axs=axs[:, 0])\n",
    "\n",
    "    # Plot length distributions for validation data\n",
    "    plot_length_distributions(df_2, dataset_name=\"Validation Data\", axs=axs[:, 1])\n",
    "\n",
    "    # Plot length distributions for test data\n",
    "    plot_length_distributions(df_3, dataset_name=\"Test Data\", axs=axs[:, 2])\n",
    "\n",
    "    plt.tight_layout()\n",
    "    plt.savefig('length_distributions.png')\n",
    "    plt.show()"
   ],
   "metadata": {
    "collapsed": false,
    "ExecuteTime": {
     "end_time": "2024-03-12T11:36:47.448764Z",
     "start_time": "2024-03-12T11:36:47.434808Z"
    }
   },
   "id": "c8ab33aa3f88b878",
   "execution_count": 15
  },
  {
   "cell_type": "code",
   "outputs": [
    {
     "data": {
      "text/plain": "<Figure size 1500x1500 with 9 Axes>",
      "image/png": "[encoded data removed]"
     },
     "metadata": {},
     "output_type": "display_data"
    }
   ],
   "source": [
    "plot_data_distributions(df_token_train, df_token_val, df_token_test)"
   ],
   "metadata": {
    "collapsed": false,
    "ExecuteTime": {
     "end_time": "2024-03-12T11:36:49.328159Z",
     "start_time": "2024-03-12T11:36:47.449915Z"
    }
   },
   "id": "564541cbace8c8fb",
   "execution_count": 16
  },
  {
   "cell_type": "code",
   "outputs": [],
   "source": [
    "def count_top_words(df, top_n=10, dataset_name=\"Dataset\"):\n",
    "    \"\"\"\n",
    "    This function counts the top n most frequent words in a dataset.\n",
    "\n",
    "    Args:\n",
    "    df (DataFrame): The dataset to be analyzed.\n",
    "    top_n (int): The number of top words to count.\n",
    "    dataset_name (str): The name of the dataset.\n",
    "\n",
    "    Returns:\n",
    "    DataFrame: A pandas DataFrame containing the top n most frequent words and their frequencies.\n",
    "    \"\"\"\n",
    "    question_words = [word for tokens in df['questions_tokens'] for word in tokens]\n",
    "    option_words = [word for tokens in\n",
    "                    df[['option1_tokens', 'option2_tokens', 'option3_tokens', 'option4_tokens']].apply(\n",
    "                        lambda x: x.iloc[0] + x.iloc[1] + x.iloc[2] + x.iloc[3], axis=1) for word in tokens]\n",
    "    correct_option_words = [word for tokens in df['correct_options_tokens'] for word in tokens]\n",
    "\n",
    "    count_question_words = Counter(question_words)\n",
    "    count_option_words = Counter(option_words)\n",
    "    count_correct_options_words = Counter(correct_option_words)\n",
    "\n",
    "    print(f'-------- {dataset_name} --------')\n",
    "    print('Most common words in questions:', count_question_words.most_common(top_n))\n",
    "    print('Most common words in options:', count_option_words.most_common(top_n))\n",
    "    print('Most common words in correct options:', count_correct_options_words.most_common(top_n))\n",
    "\n",
    "    return count_question_words, count_option_words, count_correct_options_words"
   ],
   "metadata": {
    "collapsed": false,
    "ExecuteTime": {
     "end_time": "2024-03-12T11:36:49.343922Z",
     "start_time": "2024-03-12T11:36:49.329165Z"
    }
   },
   "id": "20b3b14f0d7b31e2",
   "execution_count": 17
  },
  {
   "cell_type": "code",
   "outputs": [
    {
     "name": "stdout",
     "output_type": "stream",
     "text": [
      "-------- Training Data --------\n",
      "Most common words in questions: [('what', 392), ('is', 304), ('the', 254), ('in', 130), ('how', 116), ('who', 101), ('of', 94), ('a', 91), ('when', 81), ('are', 72)]\n",
      "Most common words in options: [('the', 5020), ('of', 2577), ('and', 2078), ('in', 1754), ('a', 1705), ('is', 1331), ('to', 1086), ('as', 715), ('by', 614), ('or', 497)]\n",
      "Most common words in correct options: [('the', 1366), ('of', 736), ('and', 604), ('a', 571), ('in', 528), ('is', 458), ('to', 285), ('by', 210), ('as', 197), ('or', 180)]\n",
      "-------- Validation Data --------\n",
      "Most common words in questions: [('what', 60), ('the', 50), ('is', 40), ('are', 16), ('of', 16), ('in', 15), ('was', 13), ('on', 12), ('who', 12), ('where', 12)]\n",
      "Most common words in options: [('the', 641), ('of', 310), ('and', 261), ('in', 251), ('a', 216), ('is', 166), ('to', 141), ('as', 102), ('was', 83), ('by', 70)]\n",
      "Most common words in correct options: [('the', 183), ('of', 91), ('a', 78), ('and', 72), ('in', 69), ('is', 50), ('to', 34), ('by', 30), ('as', 27), ('or', 21)]\n",
      "-------- Test Data --------\n",
      "Most common words in questions: [('what', 107), ('is', 83), ('the', 78), ('of', 40), ('how', 35), ('a', 31), ('in', 31), ('who', 31), ('was', 24), ('where', 20)]\n",
      "Most common words in options: [('the', 1316), ('of', 657), ('and', 525), ('in', 469), ('a', 461), ('is', 348), ('to', 262), ('as', 204), ('by', 186), ('or', 155)]\n",
      "Most common words in correct options: [('the', 328), ('of', 189), ('a', 149), ('and', 140), ('is', 125), ('in', 124), ('or', 65), ('to', 61), ('by', 59), ('for', 44)]\n"
     ]
    }
   ],
   "source": [
    "_ = count_top_words(df_token_train, 10, dataset_name=\"Training Data\")\n",
    "_ = count_top_words(df_token_val, 10, dataset_name=\"Validation Data\")\n",
    "_ = count_top_words(df_token_test, 10, dataset_name=\"Test Data\")"
   ],
   "metadata": {
    "collapsed": false,
    "ExecuteTime": {
     "end_time": "2024-03-12T11:36:49.391025Z",
     "start_time": "2024-03-12T11:36:49.346031Z"
    }
   },
   "id": "8a0ddda78b1fa0a7",
   "execution_count": 18
  },
  {
   "cell_type": "markdown",
   "source": [
    "## 1.5 Perform any additional exploration of the data that you feel would be helpful for this multiple-choice question-answering task. Briefly describe what you found. [4 marks]\n",
    "- From the output above, we can see the length distribution of questions and options in each dataset. \n",
    "- We can see that most of the length distributions of questions are below 10 tokens, most of the length distributions of options are below 40 tokens, and most of the length distributions of correct options are below 50 tokens.\n",
    "- This information is useful for limiting the length of inputs when we design our models.\n",
    "- We can also see the most common words in each dataset. \n",
    "- These words may be deactivated words, and we may consider removing them in the preprocessing step. \n",
    "- In addition, we can see the most common words in the correct options, which may be keywords that our model needs to focus on."
   ],
   "metadata": {
    "collapsed": false
   },
   "id": "628e525c355e6b18"
  },
  {
   "cell_type": "markdown",
   "source": [
    "# Q2"
   ],
   "metadata": {
    "collapsed": false
   },
   "id": "d23dae5722334030"
  },
  {
   "cell_type": "code",
   "outputs": [],
   "source": [
    "def calculate_similarity_scores(question, options):\n",
    "    \"\"\"\n",
    "    This function calculates the similarity scores between a question and a list of options.\n",
    "    similarity scores are calculated using the overlap coefficient, Sorensen-Dice coefficient, and Jaccard coefficient.\n",
    "\n",
    "    Args:\n",
    "    question (str): The question to be compared.\n",
    "    options (list): The list of options to be compared.\n",
    "\n",
    "    Returns:\n",
    "    list: A list of similarity scores.\n",
    "    \"\"\"\n",
    "    question_set = set(question)\n",
    "    scores = []\n",
    "    for option in options:\n",
    "        option_set = set(option)\n",
    "\n",
    "        overlap = len(question_set & option_set) / min(len(question_set), len(option_set))\n",
    "        sorensen_dice = 2 * len(question_set & option_set) / (len(question_set) + len(option_set))\n",
    "        jaccard = len(question_set & option_set) / len(question_set | option_set)\n",
    "\n",
    "        scores.append((overlap, sorensen_dice, jaccard))\n",
    "    return scores"
   ],
   "metadata": {
    "collapsed": false,
    "ExecuteTime": {
     "end_time": "2024-03-12T11:36:49.407006Z",
     "start_time": "2024-03-12T11:36:49.392025Z"
    }
   },
   "id": "7d618fd9ce0d23f6",
   "execution_count": 19
  },
  {
   "cell_type": "code",
   "outputs": [],
   "source": [
    "def calculate_accuracy(df):\n",
    "    \"\"\"\n",
    "    This function calculates the accuracy of a model on a dataset.\n",
    "    The model selects the option with the highest similarity score as the answer.\n",
    "\n",
    "    Args:\n",
    "    df (DataFrame): The dataset to be evaluated.\n",
    "\n",
    "    Returns:\n",
    "    float: The accuracy of the model.\n",
    "    \"\"\"\n",
    "    correct_overlap = 0\n",
    "    correct_sorensen_dice = 0\n",
    "    correct_jaccard = 0\n",
    "    scores_list = []\n",
    "    for idx, row in df.iterrows():\n",
    "        question = row['questions_tokens']\n",
    "        options = [row[f'option{i}_tokens'] for i in range(1, 5)]\n",
    "        scores = calculate_similarity_scores(question, options)\n",
    "        scores_list.append(scores)\n",
    "        chosen_overlap = np.argmax([score[0] for score in scores])  # selects the option with the highest overlap score\n",
    "        chosen_sorensen_dice = np.argmax(\n",
    "            [score[1] for score in scores])  # selects the option with the highest Sorensen-Dice score\n",
    "        chosen_jaccard = np.argmax([score[2] for score in scores])  # Select the option with the highest Jaccard score\n",
    "        if chosen_overlap == row['correct_index'] - 1:  # If the overlap score selection is correct\n",
    "            correct_overlap += 1\n",
    "        if chosen_sorensen_dice == row['correct_index'] - 1:  # If the Sorensen-Dice choice is correct\n",
    "            correct_sorensen_dice += 1\n",
    "        if chosen_jaccard == row['correct_index'] - 1:  # If Jaccard is right.\n",
    "            correct_jaccard += 1\n",
    "    df['scores'] = scores_list\n",
    "    return correct_overlap / len(df), correct_sorensen_dice / len(df), correct_jaccard / len(df), df"
   ],
   "metadata": {
    "collapsed": false,
    "ExecuteTime": {
     "end_time": "2024-03-12T11:36:49.422547Z",
     "start_time": "2024-03-12T11:36:49.408926Z"
    }
   },
   "id": "66a3d6be761a9e6d",
   "execution_count": 20
  },
  {
   "cell_type": "code",
   "outputs": [
    {
     "name": "stdout",
     "output_type": "stream",
     "text": [
      "Training:\toverlap: 52.362%\tSorensen-Dice: 42.915%\tJaccard: 42.915%\n",
      "Validation:\toverlap: 46.602%\tSorensen-Dice: 35.922%\tJaccard: 35.922%\n"
     ]
    }
   ],
   "source": [
    "train_accuracy = calculate_accuracy(df_token_train)\n",
    "val_accuracy = calculate_accuracy(df_token_val)\n",
    "\n",
    "print(\n",
    "    f'Training:\\toverlap: {train_accuracy[0] * 100:.3f}%\\tSorensen-Dice: {train_accuracy[1] * 100:.3f}%\\tJaccard: {train_accuracy[2] * 100:.3f}%')\n",
    "print(\n",
    "    f'Validation:\\toverlap: {val_accuracy[0] * 100:.3f}%\\tSorensen-Dice: {val_accuracy[1] * 100:.3f}%\\tJaccard: {val_accuracy[2] * 100:.3f}%')"
   ],
   "metadata": {
    "collapsed": false,
    "ExecuteTime": {
     "end_time": "2024-03-12T11:36:49.501435Z",
     "start_time": "2024-03-12T11:36:49.424136Z"
    }
   },
   "id": "2cecfd0977a24c5c",
   "execution_count": 21
  },
  {
   "cell_type": "code",
   "outputs": [
    {
     "data": {
      "text/plain": "                                      questions_tokens  \\\n0                   [how, are, glacier, caves, formed]   \n1            [how, much, is, 1, tablespoon, of, water]   \n2    [how, much, are, the, harry, potter, movies, w...   \n3                      [how, a, rocket, engine, works]   \n4    [how, are, cholera, and, typhus, transmitted, ...   \n..                                                 ...   \n736              [what, is, melissa, and, joey, about]   \n737                  [what, is, an, economic, feature]   \n738         [what, is, the, average, american, income]   \n739              [when, was, apple, computer, founded]   \n740                [what, is, section, eight, housing]   \n\n                                        option1_tokens  \\\n0    [the, ice, facade, is, approximately, 60, m, h...   \n1    [in, the, uk, europe, and, most, commonwealth,...   \n2    [harry, potter, is, a, series, of, seven, fant...   \n3    [rs-68, being, tested, at, nasa, 's, stennis, ...   \n4    [cholera, is, an, infection, in, the, small, i...   \n..                                                 ...   \n736  [the, series, follows, local, politician, mel,...   \n737  [economics, is, the, social, science, that, an...   \n738        [median, us, household, income, 2001, 2011]   \n739  [apple, inc., formerly, apple, computer, inc.,...   \n740  [the, housing, choice, voucher, program, provi...   \n\n                                        option2_tokens  \\\n0    [a, partly, submerged, glacier, cave, on, peri...   \n1    [in, the, us, and, parts, of, canada, a, table...   \n2    [the, main, story, arc, concerns, harry, 's, q...   \n3    [the, nearly, transparent, exhaust, is, due, t...   \n4    [the, main, symptoms, are, watery, diarrhea, a...   \n..                                                 ...   \n736  [melissa, joey, is, an, abc, family, original,...   \n737  [the, term, economics, comes, from, the, ancie...   \n738  [u.s., median, household, income, fell, from, ...   \n739  [its, software, includes, the, os, x, and, ios...   \n740       [section, 8, housing, in, the, south, bronx]   \n\n                                        option3_tokens  \\\n0    [ice, formations, in, the, titlis, glacier, cave]   \n1    [this, tablespoon, has, a, capacity, of, about...   \n2    [the, books, chronicle, the, adventures, of, a...   \n3    [a, rocket, engine, or, simply, rocket, is, a,...   \n4    [the, severity, of, the, diarrhea, and, vomiti...   \n..                                                 ...   \n736  [it, first, aired, on, abc, family, on, august...   \n737  [other, broad, distinctions, include, those, b...   \n738      [us, county, household, median, income, 2009]   \n739  [the, company, was, founded, on, april, 1, 197...   \n740  [the, us, department, of, housing, and, urban,...   \n\n                                        option4_tokens  \\\n0    [a, glacier, cave, is, a, cave, formed, within...   \n1                                  [measuring, spoons]   \n2    [the, series, also, originated, much, tie, in,...   \n3                         [viking, 5c, rocket, engine]   \n4    [transmission, occurs, primarily, by, drinking...   \n..                                                 ...   \n736  [the, series, was, renewed, by, abc, family, f...   \n737  [political, economy, was, the, earlier, name, ...   \n738  [household, income, is, a, measure, commonly, ...   \n739  [its, best, known, hardware, products, are, th...   \n740  [section, 8, of, the, housing, act, of, 1937, ...   \n\n                                correct_options_tokens  correct_index  \\\n0    [a, glacier, cave, is, a, cave, formed, within...              4   \n1    [this, tablespoon, has, a, capacity, of, about...              3   \n2    [the, series, also, originated, much, tie, in,...              4   \n3    [a, rocket, engine, or, simply, rocket, is, a,...              3   \n4    [transmission, occurs, primarily, by, drinking...              4   \n..                                                 ...            ...   \n736  [the, series, follows, local, politician, mel,...              1   \n737  [other, broad, distinctions, include, those, b...              3   \n738  [u.s., median, household, income, fell, from, ...              2   \n739  [the, company, was, founded, on, april, 1, 197...              3   \n740  [section, 8, of, the, housing, act, of, 1937, ...              4   \n\n                                                scores  \n0    [(0.0, 0.0, 0.0), (0.2, 0.15384615384615385, 0...  \n1    [(0.42857142857142855, 0.23076923076923078, 0....  \n2    [(0.375, 0.24, 0.13636363636363635), (0.5, 0.1...  \n3    [(0.0, 0.0, 0.0), (0.2, 0.07407407407407407, 0...  \n4    [(0.14285714285714285, 0.1, 0.0526315789473684...  \n..                                                 ...  \n736  [(0.5, 0.17142857142857143, 0.09375), (0.66666...  \n737  [(0.2, 0.10526315789473684, 0.0555555555555555...  \n738  [(0.16666666666666666, 0.16666666666666666, 0....  \n739  [(0.4, 0.14285714285714285, 0.0769230769230769...  \n740  [(0.2, 0.06896551724137931, 0.0357142857142857...  \n\n[741 rows x 8 columns]",
      "text/html": "<div>\n<style scoped>\n    .dataframe tbody tr th:only-of-type {\n        vertical-align: middle;\n    }\n\n    .dataframe tbody tr th {\n        vertical-align: top;\n    }\n\n    .dataframe thead th {\n        text-align: right;\n    }\n</style>\n<table border=\"1\" class=\"dataframe\">\n  <thead>\n    <tr style=\"text-align: right;\">\n      <th></th>\n      <th>questions_tokens</th>\n      <th>option1_tokens</th>\n      <th>option2_tokens</th>\n      <th>option3_tokens</th>\n      <th>option4_tokens</th>\n      <th>correct_options_tokens</th>\n      <th>correct_index</th>\n      <th>scores</th>\n    </tr>\n  </thead>\n  <tbody>\n    <tr>\n      <th>0</th>\n      <td>[how, are, glacier, caves, formed]</td>\n      <td>[the, ice, facade, is, approximately, 60, m, h...</td>\n      <td>[a, partly, submerged, glacier, cave, on, peri...</td>\n      <td>[ice, formations, in, the, titlis, glacier, cave]</td>\n      <td>[a, glacier, cave, is, a, cave, formed, within...</td>\n      <td>[a, glacier, cave, is, a, cave, formed, within...</td>\n      <td>4</td>\n      <td>[(0.0, 0.0, 0.0), (0.2, 0.15384615384615385, 0...</td>\n    </tr>\n    <tr>\n      <th>1</th>\n      <td>[how, much, is, 1, tablespoon, of, water]</td>\n      <td>[in, the, uk, europe, and, most, commonwealth,...</td>\n      <td>[in, the, us, and, parts, of, canada, a, table...</td>\n      <td>[this, tablespoon, has, a, capacity, of, about...</td>\n      <td>[measuring, spoons]</td>\n      <td>[this, tablespoon, has, a, capacity, of, about...</td>\n      <td>3</td>\n      <td>[(0.42857142857142855, 0.23076923076923078, 0....</td>\n    </tr>\n    <tr>\n      <th>2</th>\n      <td>[how, much, are, the, harry, potter, movies, w...</td>\n      <td>[harry, potter, is, a, series, of, seven, fant...</td>\n      <td>[the, main, story, arc, concerns, harry, 's, q...</td>\n      <td>[the, books, chronicle, the, adventures, of, a...</td>\n      <td>[the, series, also, originated, much, tie, in,...</td>\n      <td>[the, series, also, originated, much, tie, in,...</td>\n      <td>4</td>\n      <td>[(0.375, 0.24, 0.13636363636363635), (0.5, 0.1...</td>\n    </tr>\n    <tr>\n      <th>3</th>\n      <td>[how, a, rocket, engine, works]</td>\n      <td>[rs-68, being, tested, at, nasa, 's, stennis, ...</td>\n      <td>[the, nearly, transparent, exhaust, is, due, t...</td>\n      <td>[a, rocket, engine, or, simply, rocket, is, a,...</td>\n      <td>[viking, 5c, rocket, engine]</td>\n      <td>[a, rocket, engine, or, simply, rocket, is, a,...</td>\n      <td>3</td>\n      <td>[(0.0, 0.0, 0.0), (0.2, 0.07407407407407407, 0...</td>\n    </tr>\n    <tr>\n      <th>4</th>\n      <td>[how, are, cholera, and, typhus, transmitted, ...</td>\n      <td>[cholera, is, an, infection, in, the, small, i...</td>\n      <td>[the, main, symptoms, are, watery, diarrhea, a...</td>\n      <td>[the, severity, of, the, diarrhea, and, vomiti...</td>\n      <td>[transmission, occurs, primarily, by, drinking...</td>\n      <td>[transmission, occurs, primarily, by, drinking...</td>\n      <td>4</td>\n      <td>[(0.14285714285714285, 0.1, 0.0526315789473684...</td>\n    </tr>\n    <tr>\n      <th>...</th>\n      <td>...</td>\n      <td>...</td>\n      <td>...</td>\n      <td>...</td>\n      <td>...</td>\n      <td>...</td>\n      <td>...</td>\n      <td>...</td>\n    </tr>\n    <tr>\n      <th>736</th>\n      <td>[what, is, melissa, and, joey, about]</td>\n      <td>[the, series, follows, local, politician, mel,...</td>\n      <td>[melissa, joey, is, an, abc, family, original,...</td>\n      <td>[it, first, aired, on, abc, family, on, august...</td>\n      <td>[the, series, was, renewed, by, abc, family, f...</td>\n      <td>[the, series, follows, local, politician, mel,...</td>\n      <td>1</td>\n      <td>[(0.5, 0.17142857142857143, 0.09375), (0.66666...</td>\n    </tr>\n    <tr>\n      <th>737</th>\n      <td>[what, is, an, economic, feature]</td>\n      <td>[economics, is, the, social, science, that, an...</td>\n      <td>[the, term, economics, comes, from, the, ancie...</td>\n      <td>[other, broad, distinctions, include, those, b...</td>\n      <td>[political, economy, was, the, earlier, name, ...</td>\n      <td>[other, broad, distinctions, include, those, b...</td>\n      <td>3</td>\n      <td>[(0.2, 0.10526315789473684, 0.0555555555555555...</td>\n    </tr>\n    <tr>\n      <th>738</th>\n      <td>[what, is, the, average, american, income]</td>\n      <td>[median, us, household, income, 2001, 2011]</td>\n      <td>[u.s., median, household, income, fell, from, ...</td>\n      <td>[us, county, household, median, income, 2009]</td>\n      <td>[household, income, is, a, measure, commonly, ...</td>\n      <td>[u.s., median, household, income, fell, from, ...</td>\n      <td>2</td>\n      <td>[(0.16666666666666666, 0.16666666666666666, 0....</td>\n    </tr>\n    <tr>\n      <th>739</th>\n      <td>[when, was, apple, computer, founded]</td>\n      <td>[apple, inc., formerly, apple, computer, inc.,...</td>\n      <td>[its, software, includes, the, os, x, and, ios...</td>\n      <td>[the, company, was, founded, on, april, 1, 197...</td>\n      <td>[its, best, known, hardware, products, are, th...</td>\n      <td>[the, company, was, founded, on, april, 1, 197...</td>\n      <td>3</td>\n      <td>[(0.4, 0.14285714285714285, 0.0769230769230769...</td>\n    </tr>\n    <tr>\n      <th>740</th>\n      <td>[what, is, section, eight, housing]</td>\n      <td>[the, housing, choice, voucher, program, provi...</td>\n      <td>[section, 8, housing, in, the, south, bronx]</td>\n      <td>[the, us, department, of, housing, and, urban,...</td>\n      <td>[section, 8, of, the, housing, act, of, 1937, ...</td>\n      <td>[section, 8, of, the, housing, act, of, 1937, ...</td>\n      <td>4</td>\n      <td>[(0.2, 0.06896551724137931, 0.0357142857142857...</td>\n    </tr>\n  </tbody>\n</table>\n<p>741 rows × 8 columns</p>\n</div>"
     },
     "execution_count": 22,
     "metadata": {},
     "output_type": "execute_result"
    }
   ],
   "source": [
    "train_accuracy[3]"
   ],
   "metadata": {
    "collapsed": false,
    "ExecuteTime": {
     "end_time": "2024-03-12T11:36:49.532381Z",
     "start_time": "2024-03-12T11:36:49.502364Z"
    }
   },
   "id": "4fc6ceca68e11aae",
   "execution_count": 22
  },
  {
   "cell_type": "markdown",
   "source": [
    "## 2.1 Report the performance of each similarity measure (overlap coefficient, Sorensen-Dice & Jaccard) on the training and validation sets by measuring accuracy. [6 marks]\n",
    "\n",
    "|            | Overlap Coefficient | Sorensen-Dice | Jaccard |\n",
    "|------------|---------------------|---------------|---------|\n",
    "| Training   | 52.362%             | 42.915%       | 42.915% |\n",
    "| Validation | 46.602%             | 35.922%       | 35.922% |\n"
   ],
   "metadata": {
    "collapsed": false
   },
   "id": "158e48df3c8ebdf5"
  },
  {
   "cell_type": "code",
   "outputs": [],
   "source": [
    "def count_ties(df):\n",
    "    \"\"\"\n",
    "    This function counts the number of ties in the similarity scores of a dataset.\n",
    "    If there are more than 3 ties, they will also be counted as 1.\n",
    "    \n",
    "    Args:\n",
    "    df (DataFrame): The dataset to be analyzed.\n",
    "    \n",
    "    Returns:\n",
    "    int: The number of ties.\n",
    "    \"\"\"\n",
    "    overlap_ties = 0\n",
    "    sorensen_dice_ties = 0\n",
    "    jaccard_ties = 0\n",
    "    for index, scores in enumerate(df['scores']):\n",
    "        overlap_scores = [score[0] for score in scores]\n",
    "        sorensen_dice_scores = [score[1] for score in scores]\n",
    "        jaccard_scores = [score[2] for score in scores]\n",
    "        if overlap_scores.count(max(overlap_scores)) > 1:\n",
    "            overlap_ties += 1\n",
    "            # print(f'{index}overlap_scores: {overlap_scores}')\n",
    "        if sorensen_dice_scores.count(max(sorensen_dice_scores)) > 1:\n",
    "            sorensen_dice_ties += 1\n",
    "            # print(f'{index}: sorensen_dice_scores: {sorensen_dice_scores}')\n",
    "        if jaccard_scores.count(max(jaccard_scores)) > 1:\n",
    "            jaccard_ties += 1\n",
    "            # print(f'{index}: jaccard_scores: {jaccard_scores}')\n",
    "    return overlap_ties, sorensen_dice_ties, jaccard_ties"
   ],
   "metadata": {
    "collapsed": false,
    "ExecuteTime": {
     "end_time": "2024-03-12T11:36:49.547987Z",
     "start_time": "2024-03-12T11:36:49.532381Z"
    }
   },
   "id": "7b2287f08d623f7c",
   "execution_count": 23
  },
  {
   "cell_type": "code",
   "outputs": [
    {
     "name": "stdout",
     "output_type": "stream",
     "text": [
      "Overlap ties: 246\tSorensen-Dice ties: 20\tJaccard ties: 20\n",
      "Overlap ties: 29\tSorensen-Dice ties: 4\tJaccard ties: 4\n"
     ]
    }
   ],
   "source": [
    "overlap_ties_train, sorensen_dice_ties_train, jaccard_ties_train = count_ties(train_accuracy[3])\n",
    "print(\n",
    "    f'Overlap ties: {overlap_ties_train}\\tSorensen-Dice ties: {sorensen_dice_ties_train}\\tJaccard ties: {jaccard_ties_train}')\n",
    "\n",
    "overlap_ties_val, sorensen_dice_ties_val, jaccard_ties_val = count_ties(val_accuracy[3])\n",
    "print(\n",
    "    f'Overlap ties: {overlap_ties_val}\\tSorensen-Dice ties: {sorensen_dice_ties_val}\\tJaccard ties: {jaccard_ties_val}')\n"
   ],
   "metadata": {
    "collapsed": false,
    "ExecuteTime": {
     "end_time": "2024-03-12T11:36:49.563950Z",
     "start_time": "2024-03-12T11:36:49.549004Z"
    }
   },
   "id": "ac232f74c427852b",
   "execution_count": 24
  },
  {
   "cell_type": "markdown",
   "source": [
    "## 2.2 For each similarity measure, how many times was the score of the most similar answer tied with another answer? When there was a tied score among the top answers, how did you choose which to select? Why? [4 marks]\n",
    "- In the training set, the overlap factor for this case was 246 times, 20 times for Sorensen-Dice and 20 times for Jaccard.\n",
    "- In the validation set, the overlap coefficients for this case are 29 times, 4 times for Sorensen-Dice and 4 times for Jaccard.\n",
    "- When there are multiple options with the same score, I select the first option with the highest score. This is because our model is index-based.\n",
    "- This choice is based on the assumption that all options are equiprobable, so in the absence of other information, I choose the first maximum.\n",
    "- If there is additional information that can be used to distinguish between tied maxima, we can modify this selection strategy."
   ],
   "metadata": {
    "collapsed": false
   },
   "id": "7eec9a0de66a6037"
  },
  {
   "cell_type": "markdown",
   "source": [
    "# Q3"
   ],
   "metadata": {
    "collapsed": false
   },
   "id": "e4fd2313f8e01788"
  },
  {
   "cell_type": "code",
   "outputs": [],
   "source": [
    "# Define a function to convert a list of tokens into a BoW representation\n",
    "def tokens_to_bow(tokens, vectorizer):\n",
    "    bow = vectorizer.transform([' '.join(tokens)])\n",
    "    return bow"
   ],
   "metadata": {
    "collapsed": false,
    "ExecuteTime": {
     "end_time": "2024-03-12T11:36:49.579437Z",
     "start_time": "2024-03-12T11:36:49.565049Z"
    }
   },
   "id": "176ffbb83954efe0",
   "execution_count": 25
  },
  {
   "cell_type": "code",
   "outputs": [],
   "source": [
    "# Define a function to calculate the cosine similarity between two BoW vectors\n",
    "def calculate_cosine_similarity_bow(bow1, bow2):\n",
    "    return cosine_similarity(bow1, bow2)"
   ],
   "metadata": {
    "collapsed": false,
    "ExecuteTime": {
     "end_time": "2024-03-12T11:36:49.594368Z",
     "start_time": "2024-03-12T11:36:49.580403Z"
    }
   },
   "id": "12ccafd592dcdaf6",
   "execution_count": 26
  },
  {
   "cell_type": "code",
   "outputs": [],
   "source": [
    "# Define a function to calculate the BoW representation for each question and option\n",
    "def calculate_bow(df):\n",
    "    \"\"\"\n",
    "    This function calculates the accuracy of a model on a dataset using the BoW representation and cosine similarity.\n",
    "    \n",
    "    Args:\n",
    "    df (DataFrame): The dataset to be evaluated.\n",
    "    \n",
    "    Returns:\n",
    "    float: The accuracy of the model.\n",
    "    \"\"\"\n",
    "    # Fit the CountVectorizer on the entire corpus\n",
    "    corpus = [' '.join(tokens) for tokens in df['questions_tokens']] + \\\n",
    "             [' '.join(tokens) for i in range(1, 5) for tokens in df[f'option{i}_tokens']]\n",
    "    vectorizer = CountVectorizer(tokenizer=lambda doc: doc, lowercase=False).fit(corpus)\n",
    "    # vectorizer = CountVectorizer().fit(corpus)\n",
    "\n",
    "    correct = 0\n",
    "    for idx, row in df.iterrows():\n",
    "        # Calculate BoW representation for each question and option\n",
    "        question_bow = tokens_to_bow(row['questions_tokens'], vectorizer)\n",
    "        options_bow = [tokens_to_bow(row[f'option{i}_tokens'], vectorizer) for i in range(1, 5)]\n",
    "\n",
    "        # Calculate the cosine similarity between the question and each option\n",
    "        similarities = [calculate_cosine_similarity_bow(question_bow, option_bow) for option_bow in options_bow]\n",
    "\n",
    "        # Select the option with the highest cosine similarity score\n",
    "        chosen = np.argmax(similarities)\n",
    "        if chosen == row['correct_index'] - 1:\n",
    "            correct += 1\n",
    "    return correct / len(df)"
   ],
   "metadata": {
    "collapsed": false,
    "ExecuteTime": {
     "end_time": "2024-03-12T11:36:49.610171Z",
     "start_time": "2024-03-12T11:36:49.595463Z"
    }
   },
   "id": "95a0de21fd23b348",
   "execution_count": 27
  },
  {
   "cell_type": "code",
   "outputs": [
    {
     "name": "stderr",
     "output_type": "stream",
     "text": [
      "C:\\Users\\Lenovo\\.conda\\envs\\TextAsData\\lib\\site-packages\\sklearn\\feature_extraction\\text.py:525: UserWarning: The parameter 'token_pattern' will not be used since 'tokenizer' is not None'\n",
      "  warnings.warn(\n"
     ]
    },
    {
     "name": "stdout",
     "output_type": "stream",
     "text": [
      "Training:\t37.922%\n",
      "Validation:\t36.893%\n"
     ]
    }
   ],
   "source": [
    "# Apply this function to the training and validation datasets and calculate the accuracy\n",
    "train_accuracy = calculate_bow(df_token_train)\n",
    "val_accuracy = calculate_bow(df_token_val)\n",
    "\n",
    "print(f'Training:\\t{train_accuracy * 100:.3f}%')\n",
    "print(f'Validation:\\t{val_accuracy * 100:.3f}%')"
   ],
   "metadata": {
    "collapsed": false,
    "ExecuteTime": {
     "end_time": "2024-03-12T11:36:51.835747Z",
     "start_time": "2024-03-12T11:36:49.614165Z"
    }
   },
   "id": "7f3c0ffe920486bc",
   "execution_count": 28
  },
  {
   "cell_type": "markdown",
   "source": [
    "## 3.1 Report the performance of the training and validation sets by measuring accuracy. Discuss how they compare with the set similarity measures from Q2. [6 marks]\n",
    "- The accuracy of the training set is 37.922% and the accuracy of the validation set is 36.893%.\n",
    "\n",
    "- In Q3, I used Term Frequency (TF) vectors and cosine similarity to measure the similarity between questions and options.\n",
    "    - A TF vector is a method of converting text into a vector where each word is weighted by the number of times it appears in the text.\n",
    "    - Cosine similarity is a measure of similarity between two vectors, which calculates the cosine of the angle between the two vectors.\n",
    "- In Q2, I used the overlap coefficient, the Sorensen-Dice coefficient, and the Jaccard coefficient to measure the similarity between questions and options.\n",
    "    - These are set-based similarity measures that compute the proportion of intersections and concatenations between the sets of word blocks of questions and options.\n",
    "- These two approaches have their own advantages and disadvantages.\n",
    "    - The TF vector and cosine similarity approach takes into account word frequency information, so it captures the effect of differences in word frequency on text similarity.\n",
    "        - However, it does not take into account word order information, and thus may miss some semantic information.\n",
    "    - On the other hand, set-based similarity measures only consider the presence or absence of word chunks without taking word frequency and word order information into account, and thus may miss out some important information. \n",
    "        - However, they are usually computed faster than TF vector and cosine similarity methods.\n",
    "\n",
    "- From the accuracy point of view, the model in Q3 performs less well compared to the similarity metric in Q2.\n",
    "- This suggests that the BoW model may not be suitable for this task, a potential reason being that it ignores word order and context.\n",
    "- In addition, the BoW model ignores the semantic information of the words, which may cause the model to have difficulty in selecting the correct answer."
   ],
   "metadata": {
    "collapsed": false
   },
   "id": "d95098c12a11e757"
  },
  {
   "cell_type": "code",
   "outputs": [],
   "source": [
    "# Define a function to convert a list of tokens into a Word2Vec representation\n",
    "def tokens_to_word2vec(tokens, model):\n",
    "    \"\"\"\n",
    "    This function converts a list of tokens into a Word2Vec representation.\n",
    "\n",
    "    Args:\n",
    "    tokens (list): A list of tokens.\n",
    "    model (Word2Vec): A Word2Vec model.\n",
    "    \n",
    "    Returns:\n",
    "    array: A Word2Vec representation of the tokens.\n",
    "    \"\"\"\n",
    "    vector = np.zeros(model.vector_size)\n",
    "    for token in tokens:\n",
    "        if token in model.wv:\n",
    "            vector += model.wv[token]\n",
    "    return vector / len(tokens)\n"
   ],
   "metadata": {
    "collapsed": false,
    "ExecuteTime": {
     "end_time": "2024-03-12T11:36:51.850931Z",
     "start_time": "2024-03-12T11:36:51.836746Z"
    }
   },
   "id": "311b3ccf27b5b7f9",
   "execution_count": 29
  },
  {
   "cell_type": "code",
   "outputs": [],
   "source": [
    "# Modify the calculate_bow function to use the new tokens_to_word2vec function\n",
    "def calculate_word2vec(df):\n",
    "    \"\"\"\n",
    "    This function calculates the accuracy of a model on a dataset using the Word2Vec representation and cosine similarity.\n",
    "    \n",
    "    Args:\n",
    "    df (DataFrame): The dataset to be evaluated.\n",
    "    \n",
    "    Returns:\n",
    "    float: The accuracy of the model.\n",
    "    \"\"\"\n",
    "    corpus_Word2Vec = df_token_train['questions_tokens'].tolist() + \\\n",
    "                      df_token_train['option1_tokens'].tolist() + \\\n",
    "                      df_token_train['option2_tokens'].tolist() + \\\n",
    "                      df_token_train['option3_tokens'].tolist() + \\\n",
    "                      df_token_train['option4_tokens'].tolist()\n",
    "    model_Word2Vec = Word2Vec(corpus_Word2Vec, vector_size=1000, window=5, min_count=1, workers=4)\n",
    "\n",
    "    correct = 0\n",
    "    for idx, row in df.iterrows():\n",
    "        # Calculate the Word2Vec representation for each question and option\n",
    "        question_vec = tokens_to_word2vec(row['questions_tokens'], model_Word2Vec).reshape(1, -1)\n",
    "        options_vec = [tokens_to_word2vec(row[f'option{i}_tokens'], model_Word2Vec).reshape(1, -1) for i in range(1, 5)]\n",
    "\n",
    "        # Calculate the cosine similarity between the question and each option\n",
    "        similarities = [calculate_cosine_similarity_bow(question_vec, option_vec) for option_vec in options_vec]\n",
    "\n",
    "        # Select the option with the highest cosine similarity score\n",
    "        chosen = np.argmax(similarities)\n",
    "        if chosen == row['correct_index'] - 1:\n",
    "            correct += 1\n",
    "    return correct / len(df)"
   ],
   "metadata": {
    "collapsed": false,
    "ExecuteTime": {
     "end_time": "2024-03-12T11:36:51.866304Z",
     "start_time": "2024-03-12T11:36:51.851941Z"
    }
   },
   "id": "f13845712e96d2ce",
   "execution_count": 30
  },
  {
   "cell_type": "code",
   "outputs": [],
   "source": [
    "# Calculate the average accuracy of the Word2Vec model\n",
    "def average_word2vec(df, n=10):\n",
    "    \"\"\"\n",
    "    This function calculates the average accuracy of a Word2Vec model on a dataset.\n",
    "\n",
    "    Args:\n",
    "    df (DataFrame): The dataset to be evaluated.\n",
    "    n (int): The number of times to train the model.\n",
    "    \n",
    "    Returns:\n",
    "    float: The average accuracy of the model.\n",
    "    \"\"\"\n",
    "    accuracies = [calculate_word2vec(df) for _ in tqdm(range(n))]\n",
    "    return np.mean(accuracies)"
   ],
   "metadata": {
    "collapsed": false,
    "ExecuteTime": {
     "end_time": "2024-03-12T11:36:51.882478Z",
     "start_time": "2024-03-12T11:36:51.867499Z"
    }
   },
   "id": "3786ae76bc93a1e4",
   "execution_count": 31
  },
  {
   "cell_type": "code",
   "outputs": [
    {
     "name": "stderr",
     "output_type": "stream",
     "text": [
      "100%|██████████| 10/10 [00:13<00:00,  1.38s/it]\n",
      "100%|██████████| 10/10 [00:06<00:00,  1.59it/s]\n"
     ]
    }
   ],
   "source": [
    "train_accuracy_new = average_word2vec(df_token_train)\n",
    "val_accuracy_new = average_word2vec(df_token_val)"
   ],
   "metadata": {
    "collapsed": false,
    "ExecuteTime": {
     "end_time": "2024-03-12T11:37:11.983947Z",
     "start_time": "2024-03-12T11:36:51.882478Z"
    }
   },
   "id": "40c3e7fa206472f5",
   "execution_count": 32
  },
  {
   "cell_type": "code",
   "outputs": [
    {
     "name": "stdout",
     "output_type": "stream",
     "text": [
      "Training word2vec\t38.421%\n",
      "Validation word2vec\t36.699%\n"
     ]
    }
   ],
   "source": [
    "print(f'Training word2vec\\t{train_accuracy_new * 100:.3f}%')\n",
    "print(f'Validation word2vec\\t{val_accuracy_new * 100:.3f}%')"
   ],
   "metadata": {
    "collapsed": false,
    "ExecuteTime": {
     "end_time": "2024-03-12T11:37:11.999373Z",
     "start_time": "2024-03-12T11:37:11.984931Z"
    }
   },
   "id": "fca08eb9aaa18d16",
   "execution_count": 33
  },
  {
   "cell_type": "markdown",
   "source": [
    "## 3.2 Propose, motivate, and evaluate one modification to this process to improve this method. Report the performance on the training and development sets and compare them with the unmodified version. [6 marks]\n",
    "- Due to the limitations of the BoW model, we need to try more sophisticated models to solve this task.\n",
    "- Here, I tried the Word2Vec model, which is an unsupervised word embedding model that maps words into a low-dimensional continuous vector space so that similar words are mapped to neighbouring positions.\n",
    "- Since the Word2Vec model is unstable each time it is trained, it needs to be averaged over several training runs.\n",
    "- The averages for a particular 10 training runs I did on one occasion was\n",
    "    - Training set: 38.834 per cent\n",
    "    - Validation set: 37.183 per cent\n",
    "- This suggests that the Word2Vec model is performing roughly the same as the BoW model, with a slight improvement.\n",
    "- The potential reason for this is that the Word2Vec model takes into account the contextual information of the words and therefore it is able to capture the semantic and syntactic relationships between words. This may help to improve the performance of the model.\n",
    "- However, the Word2Vec model has some limitations. For example, it ignores the order information of words, and thus may miss some important information.\n",
    "- To further improve the performance of the model, we can try more sophisticated models, such as BERT or GPT-3. These models are Transformer-based models, which are able to capture the complex semantic and syntactic relationships between words, and thus may be more suitable for this task than the Word2Vec model."
   ],
   "metadata": {
    "collapsed": false
   },
   "id": "ff687472cb9e570f"
  },
  {
   "cell_type": "markdown",
   "source": [
    "# Q4"
   ],
   "metadata": {
    "collapsed": false
   },
   "id": "1438d11a90044fbc"
  },
  {
   "cell_type": "code",
   "outputs": [],
   "source": [
    "# Define a function to encode the text using the BERT tokenizer and extract the context vector for the [CLS] token \n",
    "def text_to_vector(text):\n",
    "    \"\"\"\n",
    "    This function encodes the text using the BERT tokenizer and extracts the context vector for the [CLS] token.\n",
    "    \n",
    "    Args:\n",
    "    text (str): The text to be encoded.\n",
    "    \n",
    "    Returns:\n",
    "    array: The context vector for the [CLS] token.\n",
    "    \"\"\"\n",
    "    inputs = tokenizer(text, return_tensors='pt', truncation=True, padding=True)\n",
    "    outputs = model(**inputs)\n",
    "\n",
    "    return outputs.last_hidden_state[0][0].detach().numpy()"
   ],
   "metadata": {
    "collapsed": false,
    "ExecuteTime": {
     "end_time": "2024-03-12T11:37:12.014694Z",
     "start_time": "2024-03-12T11:37:12.000451Z"
    }
   },
   "id": "1d6efd43ed2a6765",
   "execution_count": 34
  },
  {
   "cell_type": "code",
   "outputs": [],
   "source": [
    "# Define a function to calculate the cosine similarity between two vectors \n",
    "def calculate_cosine_similarity(vec1, vec2):\n",
    "    \"\"\"\n",
    "    This function calculates the cosine similarity between two vectors.\n",
    "    \n",
    "    Args:\n",
    "    vec1 (array): The first vector.\n",
    "    vec2 (array): The second vector.\n",
    "    \n",
    "    Returns:\n",
    "    float: The cosine similarity between the two vectors.\n",
    "    \"\"\"\n",
    "    return cosine_similarity(vec1.reshape(1, -1), vec2.reshape(1, -1))"
   ],
   "metadata": {
    "collapsed": false,
    "ExecuteTime": {
     "end_time": "2024-03-12T11:37:12.029976Z",
     "start_time": "2024-03-12T11:37:12.016780Z"
    }
   },
   "id": "ba5bbdcd5b1aef53",
   "execution_count": 35
  },
  {
   "cell_type": "code",
   "outputs": [],
   "source": [
    "# Define a function to calculate the context vectors for each question and option\n",
    "def calculate_accuracy(df):\n",
    "    \"\"\"\n",
    "    This function calculates the accuracy of a model on a dataset using the BERT model.\n",
    "    \n",
    "    Args:\n",
    "    df (DataFrame): The dataset to be evaluated.\n",
    "    \n",
    "    Returns:\n",
    "    float: The accuracy of the model.\n",
    "    \"\"\"\n",
    "    correct = 0\n",
    "    for idx, row in tqdm(df.iterrows()):\n",
    "        question_vec = text_to_vector(row['question'])\n",
    "        options_vec = [text_to_vector(row[f'option{i}']) for i in range(1, 5)]\n",
    "        similarities = [calculate_cosine_similarity(question_vec, option_vec) for option_vec in options_vec]\n",
    "        chosen = np.argmax(similarities)\n",
    "        if chosen == row['correct_index'] - 1:\n",
    "            correct += 1\n",
    "    return correct / len(df)"
   ],
   "metadata": {
    "collapsed": false,
    "ExecuteTime": {
     "end_time": "2024-03-12T11:37:12.045032Z",
     "start_time": "2024-03-12T11:37:12.030983Z"
    }
   },
   "id": "f5d50d410a1c700f",
   "execution_count": 36
  },
  {
   "cell_type": "code",
   "outputs": [],
   "source": [
    "# Load the BERT model and tokenizer\n",
    "tokenizer = AutoTokenizer.from_pretrained('bert-base-uncased')\n",
    "model = AutoModel.from_pretrained('bert-base-uncased')"
   ],
   "metadata": {
    "collapsed": false,
    "ExecuteTime": {
     "end_time": "2024-03-12T11:37:13.027626Z",
     "start_time": "2024-03-12T11:37:12.046044Z"
    }
   },
   "id": "4adf412177838da1",
   "execution_count": 37
  },
  {
   "cell_type": "code",
   "outputs": [
    {
     "name": "stderr",
     "output_type": "stream",
     "text": [
      "741it [04:03,  3.05it/s]\n",
      "103it [00:31,  3.22it/s]"
     ]
    },
    {
     "name": "stdout",
     "output_type": "stream",
     "text": [
      "Training:\t14.305%\n",
      "Validation:\t20.388%\n"
     ]
    },
    {
     "name": "stderr",
     "output_type": "stream",
     "text": [
      "\n"
     ]
    }
   ],
   "source": [
    "# Apply this function to the training and validation datasets and calculate the accuracy\n",
    "train_accuracy = calculate_accuracy(df_train)\n",
    "val_accuracy = calculate_accuracy(df_val)\n",
    "\n",
    "print(f'Training:\\t{train_accuracy * 100:.3f}%')\n",
    "print(f'Validation:\\t{val_accuracy * 100:.3f}%')"
   ],
   "metadata": {
    "collapsed": false,
    "ExecuteTime": {
     "end_time": "2024-03-12T11:41:48.261530Z",
     "start_time": "2024-03-12T11:37:13.029094Z"
    }
   },
   "id": "3e193b8463dbde6f",
   "execution_count": 38
  },
  {
   "cell_type": "markdown",
   "source": [
    "## 4.1 Report the performance of the training and validation sets by measuring accuracy. [8 marks]\n",
    "- The accuracy of the training set is 14.305% and the accuracy of the validation set is 20.388%.\n",
    "\n",
    "## 4.2 What are the limitations of the set similarity and cosine similarity methods used in Q2, Q3 and Q4?  [4 marks]\n",
    "- Limitations of set similarity:  \n",
    "    - Ignores the importance of elements, all elements are treated as equally important, which is not always the case in natural language.\n",
    "    - Punching lacks contextual information and focuses only on the presence or absence of elements, ignoring the relationships and semantics between them.\n",
    "    - Considers only the presence or absence of words and ignores word frequency, which can be very important for text similarity.\n",
    "    - Disregarding the order of words, which is crucial for understanding the context and semantics of a sentence.\n",
    "- Limitations of cosine similarity:\n",
    "    - Ignores differences in size and focuses only on the direction of the vectors, ignoring the size of the vectors.\n",
    "    - Similar to set similarity, cosine similarity also ignores frequency and order information of words, as well as contextual information. This information may be important for text similarity."
   ],
   "metadata": {
    "collapsed": false
   },
   "id": "4fd7d5a0aad2ba29"
  },
  {
   "cell_type": "markdown",
   "source": [
    "# Q5"
   ],
   "metadata": {
    "collapsed": false
   },
   "id": "d3f003ffadc93d6c"
  },
  {
   "cell_type": "code",
   "outputs": [],
   "source": [
    "def transform_dataset(df):\n",
    "    \"\"\"\n",
    "    This function transforms the dataset into a question-option pair representation.\n",
    "    \n",
    "    Args:\n",
    "    df (DataFrame): The dataset to be transformed.\n",
    "    \n",
    "    Returns:\n",
    "    DataFrame: A pandas DataFrame containing the transformed dataset.\n",
    "    \"\"\"\n",
    "    data = []\n",
    "\n",
    "    for index, row in df.iterrows():\n",
    "        for i in range(1, 5):\n",
    "            question = row['question']\n",
    "            option = row[f'option{i}']\n",
    "\n",
    "            # Check that the current options are correct\n",
    "            correct = 1 if i == row['correct_index'] else 0\n",
    "\n",
    "            data.append({'question': question, 'options': option, 'label': correct})\n",
    "\n",
    "    transformed_df = pd.DataFrame(data)\n",
    "    return transformed_df"
   ],
   "metadata": {
    "collapsed": false,
    "ExecuteTime": {
     "end_time": "2024-03-12T11:41:48.277007Z",
     "start_time": "2024-03-12T11:41:48.262537Z"
    }
   },
   "id": "94e9da7da9b6a3e2",
   "execution_count": 39
  },
  {
   "cell_type": "code",
   "outputs": [],
   "source": [
    "def encode_text(df):\n",
    "    \"\"\"\n",
    "    This function encodes the text using the BERT tokenizer.\n",
    "    \n",
    "    Args:\n",
    "    df (DataFrame): The dataset to be encoded.\n",
    "    \n",
    "    Returns:\n",
    "    dict: A dictionary containing the encoded text.\n",
    "    \"\"\"\n",
    "    texts = []\n",
    "    texts.extend(df['question'] + '[SEP]' + df['options'])\n",
    "    labels = df['label']\n",
    "    encodings = tokenizer(texts, truncation=True, padding=True)\n",
    "    return {'input_ids': encodings['input_ids'], 'attention_mask': encodings['attention_mask'], 'labels': labels}"
   ],
   "metadata": {
    "collapsed": false,
    "ExecuteTime": {
     "end_time": "2024-03-12T11:41:48.292347Z",
     "start_time": "2024-03-12T11:41:48.278Z"
    }
   },
   "id": "defc0358f2ead9d5",
   "execution_count": 40
  },
  {
   "cell_type": "code",
   "outputs": [],
   "source": [
    "# Define a function to create a DataLoader from the encoded text\n",
    "class Dataset(Dataset):\n",
    "    \"\"\"\n",
    "    This class creates a DataLoader from the encoded text.\n",
    "    \"\"\"\n",
    "    def __init__(self, encodings):\n",
    "        self.encodings = encodings\n",
    "\n",
    "    def __getitem__(self, idx):\n",
    "        return {key: torch.tensor(val[idx]) for key, val in self.encodings.items()}\n",
    "\n",
    "    def __len__(self):\n",
    "        return len(self.encodings['input_ids'])"
   ],
   "metadata": {
    "collapsed": false,
    "ExecuteTime": {
     "end_time": "2024-03-12T11:41:48.307343Z",
     "start_time": "2024-03-12T11:41:48.292347Z"
    }
   },
   "id": "d7ff2522af002c2a",
   "execution_count": 41
  },
  {
   "cell_type": "code",
   "outputs": [],
   "source": [
    "def create_dataloader(df, batch_size):\n",
    "    \"\"\"\n",
    "    This function creates a DataLoader from the encoded text.\n",
    "    \n",
    "    Args:\n",
    "    df (DataFrame): The dataset to be transformed.\n",
    "    batch_size (int): The batch size.\n",
    "    \n",
    "    Returns:\n",
    "    DataLoader: A DataLoader containing the encoded text.\n",
    "    \"\"\"\n",
    "    encodings = encode_text(df)\n",
    "    dataset = Dataset(encodings)\n",
    "    return DataLoader(dataset, batch_size=batch_size)"
   ],
   "metadata": {
    "collapsed": false,
    "ExecuteTime": {
     "end_time": "2024-03-12T11:41:48.322600Z",
     "start_time": "2024-03-12T11:41:48.308359Z"
    }
   },
   "id": "e08eb5dc3d9d6529",
   "execution_count": 42
  },
  {
   "cell_type": "code",
   "outputs": [],
   "source": [
    "# Define a function to train the model\n",
    "def train_model(model, train_dataloader, val_dataloader, epochs=4):\n",
    "    \"\"\"\n",
    "    This function trains the model.\n",
    "    \n",
    "    Args:\n",
    "    model (Model): The model to be trained.\n",
    "    train_dataloader (DataLoader): The DataLoader for the training set.\n",
    "    \n",
    "    Returns:\n",
    "    Model: The trained model.\n",
    "    \"\"\"\n",
    "    device = torch.device('cuda') if torch.cuda.is_available() else torch.device('cpu')\n",
    "    model.to(device)\n",
    "    optimizer = AdamW(model.parameters(), lr=1e-5, weight_decay=0)\n",
    "    for epoch in range(epochs):\n",
    "        model.train()\n",
    "        for batch in tqdm(train_dataloader, desc=\"Processing\"):\n",
    "            optimizer.zero_grad()\n",
    "            input_ids = batch['input_ids'].to(device)\n",
    "            attention_mask = batch['attention_mask'].to(device)\n",
    "            labels = batch['labels'].to(device)\n",
    "            outputs = model(input_ids, attention_mask=attention_mask, labels=labels)\n",
    "            loss = outputs.loss\n",
    "            loss.backward()\n",
    "            optimizer.step()\n",
    "        model.eval()\n",
    "        for batch in val_dataloader:\n",
    "            with torch.no_grad():\n",
    "                input_ids = batch['input_ids'].to(device)\n",
    "                attention_mask = batch['attention_mask'].to(device)\n",
    "                labels = batch['labels'].to(device)\n",
    "                outputs = model(input_ids, attention_mask=attention_mask, labels=labels)\n",
    "    return model"
   ],
   "metadata": {
    "collapsed": false,
    "ExecuteTime": {
     "end_time": "2024-03-12T11:41:48.338608Z",
     "start_time": "2024-03-12T11:41:48.323866Z"
    }
   },
   "id": "bc584c96264e4506",
   "execution_count": 43
  },
  {
   "cell_type": "code",
   "outputs": [],
   "source": [
    "# Define a function to evaluate the model\n",
    "def evaluate_model(model, dataloader):\n",
    "    \"\"\"\n",
    "    This function evaluates the model.\n",
    "    \n",
    "    Args:\n",
    "    model (Model): The model to be evaluated.\n",
    "    dataloader (DataLoader): The DataLoader for the dataset.\n",
    "    \n",
    "    Returns:\n",
    "    float: The accuracy of the model.\n",
    "    \"\"\"\n",
    "    device = torch.device('cuda') if torch.cuda.is_available() else torch.device('cpu')\n",
    "    model.to(device)\n",
    "    model.eval()\n",
    "    predictions = []\n",
    "    true_labels = []\n",
    "    for batch in tqdm(dataloader):\n",
    "        with torch.no_grad():\n",
    "            input_ids = batch['input_ids'].to(device)\n",
    "            attention_mask = batch['attention_mask'].to(device)\n",
    "            labels = batch['labels'].to(device)\n",
    "            outputs = model(input_ids, attention_mask=attention_mask)\n",
    "            predictions.extend(outputs.logits.argmax(dim=-1).cpu().numpy())\n",
    "            true_labels.extend(labels.cpu().numpy())\n",
    "    accuracy = accuracy_score(true_labels, predictions)\n",
    "    precision = precision_score(true_labels, predictions)\n",
    "    recall = recall_score(true_labels, predictions)\n",
    "    f1 = f1_score(true_labels, predictions)\n",
    "    return accuracy, precision, recall, f1"
   ],
   "metadata": {
    "collapsed": false,
    "ExecuteTime": {
     "end_time": "2024-03-12T11:41:48.353999Z",
     "start_time": "2024-03-12T11:41:48.339607Z"
    }
   },
   "id": "49df407497602537",
   "execution_count": 44
  },
  {
   "cell_type": "code",
   "outputs": [
    {
     "data": {
      "text/plain": "True"
     },
     "execution_count": 45,
     "metadata": {},
     "output_type": "execute_result"
    }
   ],
   "source": [
    "torch.cuda.is_available()"
   ],
   "metadata": {
    "collapsed": false,
    "ExecuteTime": {
     "end_time": "2024-03-12T11:41:48.370108Z",
     "start_time": "2024-03-12T11:41:48.355638Z"
    }
   },
   "id": "59533c8469e121fd",
   "execution_count": 45
  },
  {
   "cell_type": "code",
   "outputs": [],
   "source": [
    "# Generate converted question-option pair representation dataset 4 times longer than original\n",
    "df_train_transformed = transform_dataset(df_train)\n",
    "df_val_transformed = transform_dataset(df_val)"
   ],
   "metadata": {
    "collapsed": false,
    "ExecuteTime": {
     "end_time": "2024-03-12T11:41:48.416553Z",
     "start_time": "2024-03-12T11:41:48.371073Z"
    }
   },
   "id": "f94b46d63429913",
   "execution_count": 46
  },
  {
   "cell_type": "code",
   "outputs": [
    {
     "name": "stderr",
     "output_type": "stream",
     "text": [
      "Some weights of BertForSequenceClassification were not initialized from the model checkpoint at bert-base-uncased and are newly initialized: ['classifier.bias', 'classifier.weight']\n",
      "You should probably TRAIN this model on a down-stream task to be able to use it for predictions and inference.\n"
     ]
    }
   ],
   "source": [
    "# Load the BERT model for sequence classification\n",
    "tokenizer = AutoTokenizer.from_pretrained('bert-base-uncased')\n",
    "model = AutoModelForSequenceClassification.from_pretrained('bert-base-uncased')"
   ],
   "metadata": {
    "collapsed": false,
    "ExecuteTime": {
     "end_time": "2024-03-12T11:41:49.481493Z",
     "start_time": "2024-03-12T11:41:48.417583Z"
    }
   },
   "id": "bf9a09d41fa0c092",
   "execution_count": 47
  },
  {
   "cell_type": "code",
   "outputs": [],
   "source": [
    "# Apply these functions to the training and validation datasets and calculate the metrics\n",
    "train_dataloader = create_dataloader(df_train_transformed, batch_size=8)\n",
    "val_dataloader = create_dataloader(df_val_transformed, batch_size=8)"
   ],
   "metadata": {
    "collapsed": false,
    "ExecuteTime": {
     "end_time": "2024-03-12T11:41:49.763846Z",
     "start_time": "2024-03-12T11:41:49.482414Z"
    }
   },
   "id": "298abbaee50be79a",
   "execution_count": 48
  },
  {
   "cell_type": "code",
   "outputs": [
    {
     "name": "stderr",
     "output_type": "stream",
     "text": [
      "Processing: 100%|██████████| 371/371 [01:00<00:00,  6.10it/s]\n",
      "Processing: 100%|██████████| 371/371 [00:59<00:00,  6.20it/s]\n",
      "Processing: 100%|██████████| 371/371 [00:58<00:00,  6.32it/s]\n",
      "Processing: 100%|██████████| 371/371 [00:59<00:00,  6.26it/s]\n"
     ]
    }
   ],
   "source": [
    "model = train_model(model, train_dataloader, val_dataloader, epochs=4)"
   ],
   "metadata": {
    "collapsed": false,
    "ExecuteTime": {
     "end_time": "2024-03-12T11:45:56.809993Z",
     "start_time": "2024-03-12T11:41:49.765489Z"
    }
   },
   "id": "f6960e595c1dc291",
   "execution_count": 49
  },
  {
   "cell_type": "code",
   "outputs": [
    {
     "name": "stderr",
     "output_type": "stream",
     "text": [
      "100%|██████████| 371/371 [00:17<00:00, 21.40it/s]\n",
      "100%|██████████| 52/52 [00:02<00:00, 24.86it/s]\n"
     ]
    }
   ],
   "source": [
    "train_accuracy, train_precision, train_recall, train_f1 = evaluate_model(model, train_dataloader)\n",
    "val_accuracy, val_precision, val_recall, val_f1 = evaluate_model(model, val_dataloader)"
   ],
   "metadata": {
    "collapsed": false,
    "ExecuteTime": {
     "end_time": "2024-03-12T11:46:16.275229Z",
     "start_time": "2024-03-12T11:45:56.810646Z"
    }
   },
   "id": "73bf76067543b949",
   "execution_count": 50
  },
  {
   "cell_type": "code",
   "outputs": [
    {
     "name": "stdout",
     "output_type": "stream",
     "text": [
      "Training:\tAccuracy: 96.862\tPrecision: 92.188\tRecall: 95.547\tF1: 93.837\n",
      "Validation:\tAccuracy: 81.311\tPrecision: 63.830\tRecall: 58.252\tF1: 60.914\n"
     ]
    }
   ],
   "source": [
    "print(\n",
    "    f'Training:\\tAccuracy: {train_accuracy * 100:.3f}\\tPrecision: {train_precision * 100:.3f}\\tRecall: {train_recall * 100:.3f}\\tF1: {train_f1 * 100:.3f}')\n",
    "print(\n",
    "    f'Validation:\\tAccuracy: {val_accuracy * 100:.3f}\\tPrecision: {val_precision * 100:.3f}\\tRecall: {val_recall * 100:.3f}\\tF1: {val_f1 * 100:.3f}')"
   ],
   "metadata": {
    "collapsed": false,
    "ExecuteTime": {
     "end_time": "2024-03-12T11:46:16.290647Z",
     "start_time": "2024-03-12T11:46:16.276228Z"
    }
   },
   "id": "415fd53e8b8fe085",
   "execution_count": 51
  },
  {
   "cell_type": "markdown",
   "source": [
    "## 5.1 Report the accuracy, precision, recall and F1 score of the predictions on the question-option pairs representation of the training and validation sets [10 marks]\n",
    "\n",
    "|            | Accuracy | Precision | Recall  | F1 Score |\n",
    "|------------|----------|-----------|---------|----------|\n",
    "| Training   | 96.862%  | 92.188%   | 95.547% | 93.837%  |\n",
    "| Validation | 81.331%  | 63.830%   | 58.252% | 60.914%  |\n"
   ],
   "metadata": {
    "collapsed": false
   },
   "id": "1ae68926732003d1"
  },
  {
   "cell_type": "code",
   "outputs": [],
   "source": [
    "def predict_answers(model, dataloader):\n",
    "    \"\"\"\n",
    "    This function predicts the answers using the model.\n",
    "    \n",
    "    Args:\n",
    "    model (Model): The model to be used for prediction.\n",
    "    dataloader (DataLoader): The DataLoader for the dataset.\n",
    "    \n",
    "    Returns:\n",
    "    list: A list of predicted answers.\n",
    "    \"\"\"\n",
    "    device = torch.device('cuda') if torch.cuda.is_available() else torch.device('cpu')\n",
    "    model.to(device)\n",
    "    model.eval()\n",
    "    predictions = []\n",
    "    for batch in tqdm(dataloader):\n",
    "        input_ids = batch['input_ids'].to(device)\n",
    "        attention_mask = batch['attention_mask'].to(device)\n",
    "        with torch.no_grad():\n",
    "            outputs = model(input_ids, attention_mask=attention_mask)\n",
    "        logits = outputs.logits\n",
    "        predicted_answer = torch.argmax(logits, dim=1)\n",
    "        predictions.extend(predicted_answer.tolist())\n",
    "    return predictions"
   ],
   "metadata": {
    "collapsed": false,
    "ExecuteTime": {
     "end_time": "2024-03-12T11:46:16.305978Z",
     "start_time": "2024-03-12T11:46:16.291646Z"
    }
   },
   "id": "6e9d24dbf7eb2e0",
   "execution_count": 52
  },
  {
   "cell_type": "code",
   "outputs": [],
   "source": [
    "def select_best_answer_per_question(predictions):\n",
    "    \"\"\"\n",
    "    This function selects the best answer for each question from the predictions.\n",
    "    \n",
    "    Args:\n",
    "    predictions (list): A list of predictions.\n",
    "    \n",
    "    Returns:\n",
    "    list: A list of best answers.\n",
    "    \"\"\"\n",
    "    # Divide the predictions into groups of four each, representing the four options for the same question\n",
    "    grouped_predictions = [predictions[i:i + 4] for i in range(0, len(predictions), 4)]\n",
    "\n",
    "    # For each set of options, select the option with the highest score as the predicted answer to the question\n",
    "    best_answers = [np.argmax(group) for group in grouped_predictions]\n",
    "    return best_answers"
   ],
   "metadata": {
    "collapsed": false,
    "ExecuteTime": {
     "end_time": "2024-03-12T11:46:16.321565Z",
     "start_time": "2024-03-12T11:46:16.306958Z"
    }
   },
   "id": "2e60cd2da87be5ac",
   "execution_count": 53
  },
  {
   "cell_type": "code",
   "outputs": [
    {
     "name": "stderr",
     "output_type": "stream",
     "text": [
      "100%|██████████| 371/371 [00:17<00:00, 21.24it/s]\n",
      "100%|██████████| 52/52 [00:01<00:00, 26.16it/s]\n"
     ]
    }
   ],
   "source": [
    "# Apply this function to the training and validation DataLoaders\n",
    "train_predictions = predict_answers(model, train_dataloader)\n",
    "val_predictions = predict_answers(model, val_dataloader)"
   ],
   "metadata": {
    "collapsed": false,
    "ExecuteTime": {
     "end_time": "2024-03-12T11:46:35.795905Z",
     "start_time": "2024-03-12T11:46:16.322563Z"
    }
   },
   "id": "9567c5450608d90f",
   "execution_count": 54
  },
  {
   "cell_type": "code",
   "outputs": [],
   "source": [
    "# Choose the best answer\n",
    "train_best_answers = select_best_answer_per_question(train_predictions)\n",
    "val_best_answers = select_best_answer_per_question(val_predictions)"
   ],
   "metadata": {
    "collapsed": false,
    "ExecuteTime": {
     "end_time": "2024-03-12T11:46:35.811259Z",
     "start_time": "2024-03-12T11:46:35.796895Z"
    }
   },
   "id": "b422a4ea708eb7a9",
   "execution_count": 55
  },
  {
   "cell_type": "code",
   "outputs": [],
   "source": [
    "def calculate_accuracy_for_questions(df_transformed, best_answers):\n",
    "    \"\"\"\n",
    "    This function calculates the accuracy for the question-option pairs representation of the dataset.\n",
    "    \n",
    "    Args:\n",
    "    df_transformed (DataFrame): The transformed dataset.\n",
    "    best_answers (list): A list of best answers.\n",
    "    \n",
    "    Returns:\n",
    "    float: The accuracy of the model.\n",
    "    \"\"\"\n",
    "    # Index of correct answers for each question\n",
    "    correct_indices = [i % 4 for i, label in enumerate(df_transformed['label']) if label == 1]\n",
    "    # Calculation accuracy\n",
    "    correct_predictions = sum(1 for i, correct_index in enumerate(correct_indices) if best_answers[i] == correct_index)\n",
    "    accuracy = correct_predictions / len(correct_indices)\n",
    "    return accuracy"
   ],
   "metadata": {
    "collapsed": false,
    "ExecuteTime": {
     "end_time": "2024-03-12T11:46:35.827235Z",
     "start_time": "2024-03-12T11:46:35.812252Z"
    }
   },
   "id": "a74c14d223cd8269",
   "execution_count": 56
  },
  {
   "cell_type": "code",
   "outputs": [],
   "source": [
    "# Calculate the accuracy on the training and validation sets\n",
    "train_accuracy = calculate_accuracy_for_questions(df_train_transformed, train_best_answers)\n",
    "val_accuracy = calculate_accuracy_for_questions(df_val_transformed, val_best_answers)"
   ],
   "metadata": {
    "collapsed": false,
    "ExecuteTime": {
     "end_time": "2024-03-12T11:46:35.842558Z",
     "start_time": "2024-03-12T11:46:35.828243Z"
    }
   },
   "id": "fa0fb90a8e1da6fc",
   "execution_count": 57
  },
  {
   "cell_type": "code",
   "outputs": [
    {
     "name": "stdout",
     "output_type": "stream",
     "text": [
      "Training Accuracy:\t\t92.713%\n",
      "Validation Accuracy:\t56.311%\n"
     ]
    }
   ],
   "source": [
    "print(f\"Training Accuracy:\\t\\t{train_accuracy * 100:.3f}%\")\n",
    "print(f\"Validation Accuracy:\\t{val_accuracy * 100:.3f}%\")"
   ],
   "metadata": {
    "collapsed": false,
    "ExecuteTime": {
     "end_time": "2024-03-12T11:46:35.857889Z",
     "start_time": "2024-03-12T11:46:35.842558Z"
    }
   },
   "id": "e775d060bc0df8b5",
   "execution_count": 58
  },
  {
   "cell_type": "markdown",
   "source": [
    "## 5.2 Report the accuracy for this method for selecting the correct answer on the training and validation sets of this model. Note this is different from the value in part (a). To enable this, select the option for each question with the highest output logit value for the positive class of the model. [6 marks]\n",
    "- The accuracy of the training set is 92.713% and the accuracy of the validation set is 56.331%.\n",
    "\n",
    "## 5.3  Why would you expect this approach to outperform the use of [CLS] vectors described in Q4? [2 marks]\n",
    "- In Q4, we use a context vector of [CLS] tokens to represent the entire question-option pair. This approach relies on the representational power of the [CLS] tokens in a pre-trained BERT model that is designed to capture the overall meaning of the entire input sequence (question + option). However, this approach has several potential limitations:\n",
    "    - Information loss: the [CLS] vector is a representation of the entire sequence, which may lose some important information between questions and options, such as the order of words and contextual information.\n",
    "    - Task-specific optimisation: [CLS] vectors are learnt in the pre-training phase and may not always be optimally tuned to reflect the semantic relations of a particular task (e.g., a multiple-choice quizzing task), especially if the fine-tuning is not sufficient.\n",
    "    - Contextual generalisation ability: although the [CLS] vector is pre-trained to capture the overall meaning of the sequence, it may not always be optimally tuned to reflect the semantic relations of a particular task (e.g., a multiple-choice quiz task), especially when fine-tuning is inadequate.\n",
    "    - Missing fine-grained information: the direct use of [CLS] vectors may not adequately capture the nuances between the question and the individual options, which are crucial for selecting the best answer. This approach may ignore specific, fine-grained interaction information between the question text and the options.\n",
    "- In contrast, the approach described in Q5 directly targets the sequence classification task (in this case the task of choosing the correct answer) via the BERT model, and is expected to perform better for a number of reasons, including:\n",
    "    - Contextual information is taken into account: through Fine-tuning, the BERT model is better able to capture the contextual information between questions and options, thus improving the model's performance.\n",
    "    - Task-specific optimisation: with Fine-tuning, all layers of the BERT model are optimised for a specific task, rather than just relying on the [CLS] vectors from pre-training. This means that the model is able to learn representations that are better suited to specific questions and answer selection tasks.\n",
    "    - Better semantic understanding: Fine-tuning enables the model to better understand the semantic relationships between questions and options because it is trained on task-specific data and is able to capture the nuances that are critical to choosing the correct answer.\n",
    "    - Exploitation of fine-grained interaction information: by training on task-specific data, the Fine-tuned model is able to exploit fine-grained interaction information between questions and options, which may help to identify correct answers more accurately.\n",
    "    - In addition, we used the output logit values of the BERT model to select the best answer for each question, rather than simply selecting the best answer for the entire question-option pair. This approach allows for better differentiation of each option, which improves the performance of the model.\n",
    "- Therefore, we expect this approach to outperform the approach in Q4. The results show that this method is indeed better than the method in Q4.\n",
    "- In summary, Fine-tuning the entire BERT model and applying it directly to the task of choosing the best answer provides deeper semantic understanding and task-specific optimisation, which is expected to achieve higher performance, compared to methods that only use [CLS] vectors.\n",
    "\n"
   ],
   "metadata": {
    "collapsed": false
   },
   "id": "c0f401bf91b4902f"
  },
  {
   "cell_type": "markdown",
   "source": [
    "# Q6"
   ],
   "metadata": {
    "collapsed": false
   },
   "id": "62466b3077dd466b"
  },
  {
   "cell_type": "code",
   "outputs": [],
   "source": [
    "df_test_transformed = transform_dataset(df_test)"
   ],
   "metadata": {
    "collapsed": false,
    "ExecuteTime": {
     "end_time": "2024-03-12T11:46:35.873926Z",
     "start_time": "2024-03-12T11:46:35.858882Z"
    }
   },
   "id": "555da53769536c78",
   "execution_count": 59
  },
  {
   "cell_type": "code",
   "outputs": [],
   "source": [
    "test_dataloader = create_dataloader(df_test_transformed, batch_size=8)"
   ],
   "metadata": {
    "collapsed": false,
    "ExecuteTime": {
     "end_time": "2024-03-12T11:46:35.905665Z",
     "start_time": "2024-03-12T11:46:35.874542Z"
    }
   },
   "id": "ac07422b001f66ae",
   "execution_count": 60
  },
  {
   "cell_type": "code",
   "outputs": [
    {
     "name": "stderr",
     "output_type": "stream",
     "text": [
      "100%|██████████| 101/101 [00:04<00:00, 23.95it/s]\n"
     ]
    }
   ],
   "source": [
    "test_predictions = predict_answers(model, test_dataloader)"
   ],
   "metadata": {
    "collapsed": false,
    "ExecuteTime": {
     "end_time": "2024-03-12T11:46:40.136894Z",
     "start_time": "2024-03-12T11:46:35.906660Z"
    }
   },
   "id": "f9bceb51dddaf6ee",
   "execution_count": 61
  },
  {
   "cell_type": "code",
   "outputs": [],
   "source": [
    "test_best_answers = select_best_answer_per_question(test_predictions)"
   ],
   "metadata": {
    "collapsed": false,
    "ExecuteTime": {
     "end_time": "2024-03-12T11:46:40.152135Z",
     "start_time": "2024-03-12T11:46:40.137894Z"
    }
   },
   "id": "b606794f440975a1",
   "execution_count": 62
  },
  {
   "cell_type": "code",
   "outputs": [],
   "source": [
    "test_accuracy = calculate_accuracy_for_questions(df_test_transformed, test_best_answers)"
   ],
   "metadata": {
    "collapsed": false,
    "ExecuteTime": {
     "end_time": "2024-03-12T11:46:40.168400Z",
     "start_time": "2024-03-12T11:46:40.154124Z"
    }
   },
   "id": "396bf1d33e04b141",
   "execution_count": 63
  },
  {
   "cell_type": "code",
   "outputs": [
    {
     "name": "stdout",
     "output_type": "stream",
     "text": [
      "Test Accuracy:\t55.941%\n"
     ]
    }
   ],
   "source": [
    "print(f\"Test Accuracy:\\t{test_accuracy * 100:.3f}%\")"
   ],
   "metadata": {
    "collapsed": false,
    "ExecuteTime": {
     "end_time": "2024-03-12T11:46:40.183129Z",
     "start_time": "2024-03-12T11:46:40.169175Z"
    }
   },
   "id": "b5ad1e98ef090d8a",
   "execution_count": 64
  },
  {
   "cell_type": "markdown",
   "source": [
    "## 6.1 Report the accuracy using your best method on the test set. Use the performance on the validation set to select the best method. [2 marks]\n",
    "- After the above analysis, we have chosen the method in Q5 as the best method.\n",
    "- Using the method in Q5, the accuracy of the test set is 55.941%.\n",
    "\n",
    "## 6.2 Discuss whether the achieved accuracy would be sufficient for deployment [2 marks]\n",
    "- An accuracy of 55.45 per cent may not be sufficient for deployment. This depends on the following:\n",
    "    - The nature of the task:\n",
    "        - Some applications may tolerate lower accuracy rates, especially if the system's purpose is to provide initial screening or recommendations to experts, while the final decision is still made by humans; or if the model is used only for academic research or educational purposes.\n",
    "        - However, for applications that rely heavily on automated precision results, such as medical diagnostics or safety-related systems, such an accuracy rate may not be sufficient; or if the model is used for commercial applications, such as automated customer service or online exams, then an accuracy rate of 55.45% may not be sufficient either.\n",
    "    - Benchmark Comparison: If there is no ready-made solution for the task at hand or the accuracy of the existing solution is less than 55.45%, then this model may be good enough. On the other hand, if better known methods exist, then this accuracy may not be sufficient to justify deployment.\n",
    "    - The cost of error: the potential impact or cost of misclassification needs to be assessed. In some cases, an incorrect prediction may lead to serious consequences, while in other cases the error may be only a minor inconvenience.\n",
    "    - User expectations: Users' expectations of accuracy can affect their trust in the system and their willingness to use it. If users have high expectations of accuracy, then 55.45% may lead to dissatisfaction.\n",
    "    - Potential for improvement: If there is room for further optimisation of the model performance, one may choose not to deploy it for the time being and re-evaluate it after the model has been improved. For example, alternative model architectures, data enhancements, more data, or different preprocessing strategies could be tried.\n",
    "    - Learning after deployment: if this is a system that can continue to learn and improve, it may be possible to accept the current accuracy and expect to improve performance over time through online learning or regular model updates.\n",
    "    - In addition, we need to consider aspects such as robustness, interpretability and fairness of the model to ensure that it will perform well in practice.\n",
    "- In summary, the 55.45% accuracy rate may be acceptable for some deployment scenarios, but may not be sufficient for applications that require high accuracy. Decisions need to be made based on specific application scenarios, risk assessment, and user expectations. All possibilities for improving model performance should also be explored before making deployment decisions."
   ],
   "metadata": {
    "collapsed": false
   },
   "id": "2a503856df0e6454"
  }
 ],
 "metadata": {
  "kernelspec": {
   "display_name": "Python 3",
   "language": "python",
   "name": "python3"
  },
  "language_info": {
   "codemirror_mode": {
    "name": "ipython",
    "version": 2
   },
   "file_extension": ".py",
   "mimetype": "text/x-python",
   "name": "python",
   "nbconvert_exporter": "python",
   "pygments_lexer": "ipython2",
   "version": "2.7.6"
  }
 },
 "nbformat": 4,
 "nbformat_minor": 5
}
